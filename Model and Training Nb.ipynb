{
 "cells": [
  {
   "cell_type": "code",
   "execution_count": 49,
   "metadata": {},
   "outputs": [],
   "source": [
    "import torch\n",
    "import torch.nn as nn\n",
    "from torch import optim\n",
    "import torch.nn.functional as F\n",
    "\n",
    "import pickle, random, itertools, os\n",
    "import numpy as np\n",
    "import matplotlib.pyplot as plt\n",
    "\n",
    "from pre_processing import Voc\n",
    "from settings import *\n",
    "\n",
    "USE_CUDA = torch.cuda.is_available()\n",
    "device = torch.device(\"cuda\" if USE_CUDA else \"cpu\")"
   ]
  },
  {
   "cell_type": "markdown",
   "metadata": {
    "heading_collapsed": true
   },
   "source": [
    "## Loading data and batching"
   ]
  },
  {
   "cell_type": "code",
   "execution_count": 2,
   "metadata": {
    "hidden": true
   },
   "outputs": [],
   "source": [
    "with open(save_dir + '/voc.pkl',  'rb') as f:\n",
    "    voc   = pickle.load(f)\n",
    "    \n",
    "with open(save_dir + '/pairs.pkl','rb') as f:\n",
    "    pairs = pickle.load(f)\n",
    "    \n",
    "with open(\"./data/loss_log.pkl\", 'rb') as f:\n",
    "    loss_log = pickle.load(f)"
   ]
  },
  {
   "cell_type": "code",
   "execution_count": 3,
   "metadata": {
    "hidden": true
   },
   "outputs": [],
   "source": [
    "def zeroPadding(l, fillvalue=PAD_token):\n",
    "    return list(itertools.zip_longest(*l, fillvalue=fillvalue))\n",
    "\n",
    "def binaryMatrix(l, value=PAD_token):\n",
    "    m = []\n",
    "    for i, seq in enumerate(l):\n",
    "        m.append([])\n",
    "        for token in seq:\n",
    "            if token == PAD_token:\n",
    "                m[i].append(0)\n",
    "            else:\n",
    "                m[i].append(1)\n",
    "    return m\n",
    "\n",
    "# Returns padded input sequence tensor and lengths\n",
    "def inputVar(indexes_batch):\n",
    "    lengths = torch.tensor([len(indexes) for indexes in indexes_batch])\n",
    "    padList = zeroPadding(indexes_batch)\n",
    "    padVar = torch.LongTensor(padList)\n",
    "    return padVar, lengths\n",
    "\n",
    "# Returns padded target sequence tensor, padding mask, and max target length\n",
    "def outputVar(indexes_batch):\n",
    "    max_target_len = max([len(indexes) for indexes in indexes_batch])\n",
    "    padList = zeroPadding(indexes_batch)\n",
    "    mask = binaryMatrix(padList)\n",
    "    mask = torch.ByteTensor(mask)\n",
    "    padVar = torch.LongTensor(padList)\n",
    "    return padVar, mask, max_target_len\n",
    "\n",
    "# Returns all items for a given batch of pairs\n",
    "def batch2TrainData(pair_batch):\n",
    "    pair_batch.sort(key=lambda x: len(x[0]), reverse=True)\n",
    "    input_batch, output_batch = [], []\n",
    "    for pair in pair_batch:\n",
    "        input_batch.append(pair[0])\n",
    "        output_batch.append(pair[1])\n",
    "    inp, lengths = inputVar(input_batch)\n",
    "    output, mask, max_target_len = outputVar(output_batch)\n",
    "    return inp, lengths, output, mask, max_target_len"
   ]
  },
  {
   "cell_type": "code",
   "execution_count": 4,
   "metadata": {
    "hidden": true,
    "scrolled": true
   },
   "outputs": [
    {
     "name": "stdout",
     "output_type": "stream",
     "text": [
      "input_variable:\n",
      " tensor([[  319,    89,    27,    35,    78,  2301],\n",
      "        [  347,   573,    43,    27,  2143, 14158],\n",
      "        [12936, 34844,    66,    53,    20,    20],\n",
      "        [   87,    12,    15, 16365,     2,     2],\n",
      "        [    3, 29680,    44,    20,     0,     0],\n",
      "        [   12,    24,   560,     2,     0,     0],\n",
      "        [13482, 12375,   165,     0,     0,     0],\n",
      "        [   20,    20,    20,     0,     0,     0],\n",
      "        [    2,     2,     2,     0,     0,     0]])\n",
      "lengths: tensor([9, 9, 9, 6, 4, 4])\n",
      "target_variable:\n",
      " tensor([[   52,  2346,    27,    35,  4598,  1132],\n",
      "        [   53,    15,    43,   135,    22,    20],\n",
      "        [ 2230, 16763,    66,    15,   252,     2],\n",
      "        [   20,    38,    15,   162,    20,     0],\n",
      "        [    2,  4589,    44,    20,     2,     0],\n",
      "        [    0,    57,   560,     2,     0,     0],\n",
      "        [    0,    44,   165,     0,     0,     0],\n",
      "        [    0,    15,    20,     0,     0,     0],\n",
      "        [    0,   209,     2,     0,     0,     0],\n",
      "        [    0,   573,     0,     0,     0,     0],\n",
      "        [    0,  2715,     0,     0,     0,     0],\n",
      "        [    0,    20,     0,     0,     0,     0],\n",
      "        [    0,     2,     0,     0,     0,     0]])\n",
      "mask:\n",
      " tensor([[1, 1, 1, 1, 1, 1],\n",
      "        [1, 1, 1, 1, 1, 1],\n",
      "        [1, 1, 1, 1, 1, 1],\n",
      "        [1, 1, 1, 1, 1, 0],\n",
      "        [1, 1, 1, 1, 1, 0],\n",
      "        [0, 1, 1, 1, 0, 0],\n",
      "        [0, 1, 1, 0, 0, 0],\n",
      "        [0, 1, 1, 0, 0, 0],\n",
      "        [0, 1, 1, 0, 0, 0],\n",
      "        [0, 1, 0, 0, 0, 0],\n",
      "        [0, 1, 0, 0, 0, 0],\n",
      "        [0, 1, 0, 0, 0, 0],\n",
      "        [0, 1, 0, 0, 0, 0]], dtype=torch.uint8)\n",
      "max_target_len: 13\n"
     ]
    }
   ],
   "source": [
    "# Example for validation\n",
    "small_batch_size = 6\n",
    "pairs_list = [random.choice(pairs) for _ in range(small_batch_size)]\n",
    "batches = batch2TrainData(pairs_list)\n",
    "input_variable, lengths, target_variable, mask, max_target_len = batches\n",
    "\n",
    "print(\"input_variable:\\n\", input_variable)\n",
    "print(\"lengths:\", lengths)\n",
    "print(\"target_variable:\\n\", target_variable)\n",
    "print(\"mask:\\n\", mask)\n",
    "print(\"max_target_len:\", max_target_len)"
   ]
  },
  {
   "cell_type": "markdown",
   "metadata": {
    "heading_collapsed": true
   },
   "source": [
    "## Modelo"
   ]
  },
  {
   "cell_type": "code",
   "execution_count": 5,
   "metadata": {
    "hidden": true
   },
   "outputs": [],
   "source": [
    "class EncoderRNN(nn.Module):\n",
    "    def __init__(self, hidden_size, embedding, n_layers=1, dropout=0):\n",
    "        super(EncoderRNN, self).__init__()\n",
    "        self.n_layers = n_layers\n",
    "        self.hidden_size = hidden_size\n",
    "        self.embedding = embedding\n",
    "\n",
    "        # Initialize GRU; the input_size and hidden_size params are both set to 'hidden_size'\n",
    "        #   because our input size is a word embedding with number of features == hidden_size\n",
    "        self.gru = nn.GRU(hidden_size, hidden_size, n_layers,\n",
    "                          dropout=(0 if n_layers == 1 else dropout), bidirectional=True)\n",
    "\n",
    "    def forward(self, input_seq, input_lengths, hidden=None):\n",
    "        # Convert word indexes to embeddings\n",
    "        embedded = self.embedding(input_seq)\n",
    "        # Pack padded batch of sequences for RNN module\n",
    "        packed = torch.nn.utils.rnn.pack_padded_sequence(embedded, input_lengths)\n",
    "        # Forward pass through GRU\n",
    "        outputs, hidden = self.gru(packed, hidden)\n",
    "        # Unpack padding\n",
    "        outputs, _ = torch.nn.utils.rnn.pad_packed_sequence(outputs)\n",
    "        # Sum bidirectional GRU outputs\n",
    "        outputs = outputs[:, :, :self.hidden_size] + outputs[:, : ,self.hidden_size:]\n",
    "        # Return output and final hidden state\n",
    "        return outputs, hidden"
   ]
  },
  {
   "cell_type": "code",
   "execution_count": 6,
   "metadata": {
    "hidden": true
   },
   "outputs": [],
   "source": [
    "# Luong attention layer\n",
    "class Attn(torch.nn.Module):\n",
    "    def __init__(self, method, hidden_size):\n",
    "        super(Attn, self).__init__()\n",
    "        self.method = method\n",
    "        if self.method not in ['dot', 'general', 'concat']:\n",
    "            raise ValueError(self.method, \"is not an appropriate attention method.\")\n",
    "        self.hidden_size = hidden_size\n",
    "        if self.method == 'general':\n",
    "            self.attn = torch.nn.Linear(self.hidden_size, hidden_size)\n",
    "        elif self.method == 'concat':\n",
    "            self.attn = torch.nn.Linear(self.hidden_size * 2, hidden_size)\n",
    "            self.v = torch.nn.Parameter(torch.FloatTensor(hidden_size))\n",
    "\n",
    "    def dot_score(self, hidden, encoder_output):\n",
    "        return torch.sum(hidden * encoder_output, dim=2)\n",
    "\n",
    "    def general_score(self, hidden, encoder_output):\n",
    "        energy = self.attn(encoder_output)\n",
    "        return torch.sum(hidden * energy, dim=2)\n",
    "\n",
    "    def concat_score(self, hidden, encoder_output):\n",
    "        energy = self.attn(torch.cat((hidden.expand(encoder_output.size(0), -1, -1), encoder_output), 2)).tanh()\n",
    "        return torch.sum(self.v * energy, dim=2)\n",
    "\n",
    "    def forward(self, hidden, encoder_outputs):\n",
    "        # Calculate the attention weights (energies) based on the given method\n",
    "        if self.method == 'general':\n",
    "            attn_energies = self.general_score(hidden, encoder_outputs)\n",
    "        elif self.method == 'concat':\n",
    "            attn_energies = self.concat_score(hidden, encoder_outputs)\n",
    "        elif self.method == 'dot':\n",
    "            attn_energies = self.dot_score(hidden, encoder_outputs)\n",
    "\n",
    "        # Transpose max_length and batch_size dimensions\n",
    "        attn_energies = attn_energies.t()\n",
    "\n",
    "        # Return the softmax normalized probability scores (with added dimension)\n",
    "        return F.softmax(attn_energies, dim=1).unsqueeze(1)"
   ]
  },
  {
   "cell_type": "code",
   "execution_count": 7,
   "metadata": {
    "hidden": true
   },
   "outputs": [],
   "source": [
    "class LuongAttnDecoderRNN(nn.Module):\n",
    "    def __init__(self, attn_model, embedding, hidden_size, output_size, n_layers=1, dropout=0.1):\n",
    "        super(LuongAttnDecoderRNN, self).__init__()\n",
    "\n",
    "        # Keep for reference\n",
    "        self.attn_model = attn_model\n",
    "        self.hidden_size = hidden_size\n",
    "        self.output_size = output_size\n",
    "        self.n_layers = n_layers\n",
    "        self.dropout = dropout\n",
    "\n",
    "        # Define layers\n",
    "        self.embedding = embedding\n",
    "        self.embedding_dropout = nn.Dropout(dropout)\n",
    "        self.gru = nn.GRU(hidden_size, hidden_size, n_layers, dropout=(0 if n_layers == 1 else dropout))\n",
    "        self.concat = nn.Linear(hidden_size * 2, hidden_size)\n",
    "        self.out = nn.Linear(hidden_size, output_size)\n",
    "\n",
    "        self.attn = Attn(attn_model, hidden_size)\n",
    "\n",
    "    def forward(self, input_step, last_hidden, encoder_outputs):\n",
    "        # Note: we run this one step (word) at a time\n",
    "        # Get embedding of current input word\n",
    "        embedded = self.embedding(input_step)\n",
    "        embedded = self.embedding_dropout(embedded)\n",
    "        # Forward through unidirectional GRU\n",
    "        rnn_output, hidden = self.gru(embedded, last_hidden)\n",
    "        # Calculate attention weights from the current GRU output\n",
    "        attn_weights = self.attn(rnn_output, encoder_outputs)\n",
    "        # Multiply attention weights to encoder outputs to get new \"weighted sum\" context vector\n",
    "        context = attn_weights.bmm(encoder_outputs.transpose(0, 1))\n",
    "        # Concatenate weighted context vector and GRU output using Luong eq. 5\n",
    "        rnn_output = rnn_output.squeeze(0)\n",
    "        context = context.squeeze(1)\n",
    "        concat_input = torch.cat((rnn_output, context), 1)\n",
    "        concat_output = torch.tanh(self.concat(concat_input))\n",
    "        # Predict next word using Luong eq. 6\n",
    "        output = self.out(concat_output)\n",
    "        output = F.softmax(output, dim=1)\n",
    "        # Return output and final hidden state\n",
    "        return output, hidden"
   ]
  },
  {
   "cell_type": "code",
   "execution_count": 8,
   "metadata": {
    "hidden": true
   },
   "outputs": [],
   "source": [
    "def maskNLLLoss(inp, target, mask):\n",
    "    nTotal = mask.sum()\n",
    "    crossEntropy = -torch.log(torch.gather(inp, 1, target.view(-1, 1)).squeeze(1))\n",
    "    loss = crossEntropy.masked_select(mask).mean()\n",
    "    loss = loss.to(device)\n",
    "    return loss, nTotal.item()"
   ]
  },
  {
   "cell_type": "code",
   "execution_count": 9,
   "metadata": {
    "hidden": true
   },
   "outputs": [],
   "source": [
    "def count_parameters(model):\n",
    "    return sum(p.numel() for p in model.parameters() if p.requires_grad)"
   ]
  },
  {
   "cell_type": "markdown",
   "metadata": {},
   "source": [
    "## Training"
   ]
  },
  {
   "cell_type": "code",
   "execution_count": 70,
   "metadata": {},
   "outputs": [],
   "source": [
    "def plot_loss(d):\n",
    "    x,y=[],[]\n",
    "    for k,v in d.items():\n",
    "            x.append(k)\n",
    "            y.append(v)"
   ]
  },
  {
   "cell_type": "code",
   "execution_count": 10,
   "metadata": {},
   "outputs": [],
   "source": [
    "def train(input_variable, lengths, target_variable, mask, max_target_len, encoder, decoder, embedding,\n",
    "          encoder_optimizer, decoder_optimizer, batch_size, clip, max_length=MAX_LENGTH):\n",
    "\n",
    "    # Zero gradients\n",
    "    encoder_optimizer.zero_grad()\n",
    "    decoder_optimizer.zero_grad()\n",
    "\n",
    "    # Set device options\n",
    "    input_variable = input_variable.to(device)\n",
    "    lengths = lengths.to(device)\n",
    "    target_variable = target_variable.to(device)\n",
    "    mask = mask.to(device)\n",
    "\n",
    "    # Initialize variables\n",
    "    loss = 0\n",
    "    print_losses = []\n",
    "    n_totals = 0\n",
    "\n",
    "    # Forward pass through encoder\n",
    "    encoder_outputs, encoder_hidden = encoder(input_variable, lengths)\n",
    "\n",
    "    # Create initial decoder input (start with SOS tokens for each sentence)\n",
    "    decoder_input = torch.LongTensor([[SOS_token for _ in range(batch_size)]])\n",
    "    decoder_input = decoder_input.to(device)\n",
    "\n",
    "    # Set initial decoder hidden state to the encoder's final hidden state\n",
    "    decoder_hidden = encoder_hidden[:decoder.n_layers]\n",
    "\n",
    "    # Determine if we are using teacher forcing this iteration\n",
    "    use_teacher_forcing = True if random.random() < teacher_forcing_ratio else False\n",
    "\n",
    "    # Forward batch of sequences through decoder one time step at a time\n",
    "    if use_teacher_forcing:\n",
    "        for t in range(max_target_len):\n",
    "            decoder_output, decoder_hidden = decoder(\n",
    "                decoder_input, decoder_hidden, encoder_outputs\n",
    "            )\n",
    "            # Teacher forcing: next input is current target\n",
    "            decoder_input = target_variable[t].view(1, -1)\n",
    "            # Calculate and accumulate loss\n",
    "            mask_loss, nTotal = maskNLLLoss(decoder_output, target_variable[t], mask[t])\n",
    "            loss += mask_loss\n",
    "            print_losses.append(mask_loss.item() * nTotal)\n",
    "            n_totals += nTotal\n",
    "    else:\n",
    "        for t in range(max_target_len):\n",
    "            decoder_output, decoder_hidden = decoder(decoder_input, decoder_hidden, encoder_outputs)\n",
    "            # No teacher forcing: next input is decoder's own current output\n",
    "            _, topi = decoder_output.topk(1)\n",
    "            decoder_input = torch.LongTensor([[topi[i][0] for i in range(batch_size)]])\n",
    "            decoder_input = decoder_input.to(device)\n",
    "            # Calculate and accumulate loss\n",
    "            mask_loss, nTotal = maskNLLLoss(decoder_output, target_variable[t], mask[t])\n",
    "            loss += mask_loss\n",
    "            print_losses.append(mask_loss.item() * nTotal)\n",
    "            n_totals += nTotal\n",
    "\n",
    "    # Perform backpropatation\n",
    "    loss.backward()\n",
    "\n",
    "    # Clip gradients: gradients are modified in place\n",
    "    _ = torch.nn.utils.clip_grad_norm_(encoder.parameters(), clip)\n",
    "    _ = torch.nn.utils.clip_grad_norm_(decoder.parameters(), clip)\n",
    "\n",
    "    # Adjust model weights\n",
    "    encoder_optimizer.step()\n",
    "    decoder_optimizer.step()\n",
    "\n",
    "    return sum(print_losses) / n_totals"
   ]
  },
  {
   "cell_type": "code",
   "execution_count": 27,
   "metadata": {},
   "outputs": [],
   "source": [
    "def trainIters(voc, pairs, encoder, decoder, encoder_optimizer, decoder_optimizer, embedding, \n",
    "               encoder_n_layers, decoder_n_layers, save_dir, n_iteration, batch_size, print_every, save_every, \n",
    "               clip, corpus_name, loadFilename, total_iter):\n",
    "\n",
    "    # Load batches for each iteration\n",
    "    #TODO: generator form to save memory of training_batches\n",
    "    training_batches = [batch2TrainData([random.choice(pairs) for _ in range(batch_size)])\n",
    "                      for _ in range(n_iteration)]\n",
    "\n",
    "    # Initializations\n",
    "#     print('Initializing ...')\n",
    "    start_iteration = 0\n",
    "    print_loss = 0\n",
    "    if loadFilename:\n",
    "        start_iteration = checkpoint['iteration']\n",
    "\n",
    "    # Training loop\n",
    "#     print(\"Training...\")\n",
    "    for iteration in range(1,n_iteration+1):\n",
    "        training_batch = training_batches[iteration-1]\n",
    "        # Extract fields from batch\n",
    "        input_variable, lengths, target_variable, mask, max_target_len = training_batch\n",
    "\n",
    "        # Run a training iteration with batch\n",
    "        loss = train(input_variable, lengths, target_variable, mask, max_target_len, encoder,\n",
    "                     decoder, embedding, encoder_optimizer, decoder_optimizer, batch_size, clip)\n",
    "        print_loss += loss\n",
    "        \n",
    "        # Print progress\n",
    "        if iteration % print_every == 0:\n",
    "            print_loss_avg = print_loss / print_every\n",
    "            assert np.isnan(print_loss_avg) == False\n",
    "            loss_dict[total_iter+iteration] = print_loss_avg\n",
    "            print(f\"Iteration: {iteration}; Percent complete: {iteration / n_iteration * 100:.1f}%; \"\n",
    "                  f\"Average loss: {print_loss_avg:.4f}\")\n",
    "            print_loss = 0\n",
    "\n",
    "        # Save checkpoint\n",
    "        if (iteration % save_every == 0):\n",
    "            directory = os.path.join(save_dir, \"checkpoints\")\n",
    "            if not os.path.exists(directory):\n",
    "                os.makedirs(directory)\n",
    "            torch.save({\n",
    "                'iteration': start_iteration+iteration,\n",
    "                'en': encoder.state_dict(),\n",
    "                'de': decoder.state_dict(),\n",
    "                'en_opt': encoder_optimizer.state_dict(),\n",
    "                'de_opt': decoder_optimizer.state_dict(),\n",
    "                'loss': loss,\n",
    "                'voc_dict': voc.__dict__,\n",
    "                'embedding': embedding.state_dict(),\n",
    "                \"total_iter\": total_iter+iteration,\n",
    "                'loss': loss_dict #for plotting\n",
    "            }, os.path.join(directory, f'{start_iteration+iteration}_checkpoint.tar'))"
   ]
  },
  {
   "cell_type": "code",
   "execution_count": 41,
   "metadata": {},
   "outputs": [
    {
     "name": "stdout",
     "output_type": "stream",
     "text": [
      "Building encoder and decoder ...\n",
      "Nº of params:  65287155\n",
      "Models built and ready to go!\n"
     ]
    }
   ],
   "source": [
    "# Configure models\n",
    "attn_model = 'dot'\n",
    "#attn_model = 'general'\n",
    "#attn_model = 'concat'\n",
    "hidden_size = 500 #tamaño del embedding y del hidden\n",
    "encoder_n_layers = 2\n",
    "decoder_n_layers = 2\n",
    "dropout = 0.1\n",
    "batch_size = 256\n",
    "\n",
    "# Set checkpoint to load from; set to None if starting from scratch\n",
    "train_from_zero = False\n",
    "load_last_iter  = True\n",
    "chkpt_dir = os.path.join(save_dir, \"checkpoints\")\n",
    "\n",
    "if train_from_zero:\n",
    "    loadFilename = None\n",
    "    total_iter = 0\n",
    "    loss_dict = {}\n",
    "else:\n",
    "    if load_last_iter: #load last save\n",
    "        chkpt = os.listdir(chkpt_dir)[-1]\n",
    "        loadFilename = os.path.join(chkpt_dir,chkpt)\n",
    "    else:    \n",
    "        checkpoint_iter = 20_000 #load especific iter\n",
    "        loadFilename = os.path.join(chkpt_dir, f'{checkpoint_iter}_checkpoint.tar')\n",
    "\n",
    "print('Building encoder and decoder ...')\n",
    "# Initialize word embeddings\n",
    "embedding = nn.Embedding(voc.num_words, hidden_size)\n",
    "\n",
    "# Initialize encoder & decoder models\n",
    "encoder = EncoderRNN(hidden_size, embedding, encoder_n_layers, dropout)\n",
    "decoder = LuongAttnDecoderRNN(attn_model, embedding, hidden_size, voc.num_words, decoder_n_layers, dropout)\n",
    "print(\"Nº of params: \", count_parameters(encoder) + count_parameters(decoder))\n",
    "\n",
    "# Use appropriate device\n",
    "encoder = encoder.to(device)\n",
    "decoder = decoder.to(device)\n",
    "\n",
    "# Load model if a loadFilename is provided\n",
    "if loadFilename:\n",
    "    # If loading on same machine the model was trained on\n",
    "    checkpoint = torch.load(loadFilename)\n",
    "    # If loading a model trained on GPU to CPU\n",
    "    #checkpoint = torch.load(loadFilename, map_location=torch.device('cpu'))+\n",
    "    encoder.load_state_dict(checkpoint['en'])\n",
    "    decoder.load_state_dict(checkpoint['de'])\n",
    "    embedding.load_state_dict(checkpoint['embedding'])\n",
    "    voc.__dict__ = checkpoint['voc_dict']\n",
    "    total_iter = checkpoint[\"total_iter\"]\n",
    "    loss_dict = checkpoint[\"loss\"]\n",
    "    \n",
    "print('Models built and ready to go!')"
   ]
  },
  {
   "cell_type": "code",
   "execution_count": 42,
   "metadata": {},
   "outputs": [],
   "source": [
    "# Configure training/optimization\n",
    "clip = 15.0\n",
    "teacher_forcing_ratio = 0.99\n",
    "learning_rate = 4e-5\n",
    "decoder_learning_ratio = 5.0\n",
    "n_iteration = 10_000\n",
    "print_every = 1_000\n",
    "save_every = 10_000\n",
    "wd = 1e-4"
   ]
  },
  {
   "cell_type": "code",
   "execution_count": 44,
   "metadata": {
    "scrolled": true
   },
   "outputs": [
    {
     "name": "stdout",
     "output_type": "stream",
     "text": [
      "Building optimizers ...\n"
     ]
    }
   ],
   "source": [
    "# Initialize optimizers\n",
    "print('Building optimizers ...')\n",
    "encoder_optimizer = optim.Adam(encoder.parameters(), lr=learning_rate,weight_decay=wd)\n",
    "decoder_optimizer = optim.Adam(decoder.parameters(), lr=learning_rate * decoder_learning_ratio,weight_decay=wd)\n",
    "if loadFilename:\n",
    "    encoder_optimizer.load_state_dict(checkpoint['en_opt'])\n",
    "    decoder_optimizer.load_state_dict(checkpoint['de_opt'])"
   ]
  },
  {
   "cell_type": "code",
   "execution_count": 45,
   "metadata": {
    "collapsed": true
   },
   "outputs": [
    {
     "name": "stdout",
     "output_type": "stream",
     "text": [
      "No. iterations: 140000\n",
      "Iteration: 1000; Percent complete: 10.0%; Average loss: 3.6693\n",
      "Iteration: 2000; Percent complete: 20.0%; Average loss: 3.7034\n",
      "Iteration: 3000; Percent complete: 30.0%; Average loss: 3.6859\n",
      "Iteration: 4000; Percent complete: 40.0%; Average loss: 3.6812\n",
      "Iteration: 5000; Percent complete: 50.0%; Average loss: 3.6841\n",
      "Iteration: 6000; Percent complete: 60.0%; Average loss: 3.6841\n",
      "Iteration: 7000; Percent complete: 70.0%; Average loss: 3.6807\n",
      "Iteration: 8000; Percent complete: 80.0%; Average loss: 3.6662\n",
      "Iteration: 9000; Percent complete: 90.0%; Average loss: 3.6665\n",
      "Iteration: 10000; Percent complete: 100.0%; Average loss: 3.6994\n",
      "No. iterations: 150000\n",
      "Iteration: 1000; Percent complete: 10.0%; Average loss: 3.6770\n",
      "Iteration: 2000; Percent complete: 20.0%; Average loss: 3.6769\n",
      "Iteration: 3000; Percent complete: 30.0%; Average loss: 3.6770\n",
      "Iteration: 4000; Percent complete: 40.0%; Average loss: 3.6705\n",
      "Iteration: 5000; Percent complete: 50.0%; Average loss: 3.6705\n",
      "Iteration: 6000; Percent complete: 60.0%; Average loss: 3.6728\n",
      "Iteration: 7000; Percent complete: 70.0%; Average loss: 3.6871\n",
      "Iteration: 8000; Percent complete: 80.0%; Average loss: 3.6751\n",
      "Iteration: 9000; Percent complete: 90.0%; Average loss: 3.6760\n",
      "Iteration: 10000; Percent complete: 100.0%; Average loss: 3.6673\n",
      "CPU times: user 2h 32min 9s, sys: 25min 3s, total: 2h 57min 13s\n",
      "Wall time: 2h 59min 43s\n"
     ]
    }
   ],
   "source": [
    "%%time\n",
    "# Ensure dropout layers are in train mode\n",
    "encoder.train()\n",
    "decoder.train()\n",
    "# Run training iterations\n",
    "for _ in range(2):\n",
    "    print(f\"No. iterations: {total_iter}\")\n",
    "    trainIters(voc, pairs, encoder, decoder, encoder_optimizer, decoder_optimizer,\n",
    "               embedding, encoder_n_layers, decoder_n_layers, save_dir, n_iteration, batch_size,\n",
    "               print_every, save_every, clip, corpus_name, loadFilename,total_iter)\n",
    "    total_iter+=n_iteration\n",
    "    \n",
    "    with open(\"./data/loss_log.pkl\", 'wb') as f:\n",
    "        loss_log[corpus_name] = loss_dict\n",
    "        pickle.dump(loss_log, f)\n",
    "    plot_loss(loss_dict)"
   ]
  },
  {
   "cell_type": "code",
   "execution_count": 62,
   "metadata": {},
   "outputs": [],
   "source": [
    "with open(\"./data/loss_log.pkl\", 'wb') as f:\n",
    "    loss_log[corpus_name] = loss_dict\n",
    "    pickle.dump(loss_log, f)"
   ]
  },
  {
   "cell_type": "code",
   "execution_count": 65,
   "metadata": {},
   "outputs": [
    {
     "data": {
      "image/png": "[encoded data removed]",
      "text/plain": [
       "<Figure size 432x288 with 1 Axes>"
      ]
     },
     "metadata": {
      "needs_background": "light"
     },
     "output_type": "display_data"
    }
   ],
   "source": [
    "#tres metodos de tratar la puntuacion, entrenado por 14 \"epochs\" con 4e4 y 2 con 4e5\n",
    "for k,v in loss_log.items():\n",
    "    plot_loss(v)"
   ]
  },
  {
   "cell_type": "code",
   "execution_count": null,
   "metadata": {},
   "outputs": [],
   "source": [
    "#train with simple punct\n",
    "#reduce data to see how affect to training. smaller data faster training(worse generaliaztion but useful to do test runs)"
   ]
  },
  {
   "cell_type": "markdown",
   "metadata": {
    "heading_collapsed": true
   },
   "source": [
    "## Eval "
   ]
  },
  {
   "cell_type": "code",
   "execution_count": 35,
   "metadata": {
    "hidden": true
   },
   "outputs": [],
   "source": [
    "import re\n",
    "from pre_processing import process_punct, indexesFromSentence"
   ]
  },
  {
   "cell_type": "code",
   "execution_count": 36,
   "metadata": {
    "hidden": true
   },
   "outputs": [],
   "source": [
    "def custom_capitalize(s):\n",
    "    for i, c in enumerate(s):\n",
    "        if c.isalpha():\n",
    "            break\n",
    "    return s[:i] + s[i:].capitalize()"
   ]
  },
  {
   "cell_type": "code",
   "execution_count": 37,
   "metadata": {
    "hidden": true
   },
   "outputs": [],
   "source": [
    "def reformatString(l):\n",
    "    s = l.strip().lower()\n",
    "    s = re.sub(r\"<guion_inic>\",r\"\", s)\n",
    "#     s = re.sub(r\"\\s+([.!?])\", r\"\\1\", s)\n",
    "#     s = re.sub(r\"([¡¿])\\s+\", r\"\\1\", s)\n",
    "#     s = re.sub(r\"\\s+\", r\" \", s)\n",
    "    return custom_capitalize(s).strip()"
   ]
  },
  {
   "cell_type": "code",
   "execution_count": 38,
   "metadata": {
    "hidden": true
   },
   "outputs": [],
   "source": [
    "def evaluate(encoder, decoder, searcher, voc, sentence, max_length=MAX_LENGTH):\n",
    "    ### Format input sentence as a batch\n",
    "    # words -> indexes\n",
    "    indexes_batch = [indexesFromSentence(sentence, voc)]\n",
    "    # Create lengths tensor\n",
    "    lengths = torch.tensor([len(indexes) for indexes in indexes_batch])\n",
    "    # Transpose dimensions of batch to match models' expectations\n",
    "    input_batch = torch.LongTensor(indexes_batch).transpose(0, 1)\n",
    "    # Use appropriate device\n",
    "    input_batch = input_batch.to(device)\n",
    "    lengths = lengths.to(device)\n",
    "    # Decode sentence with searcher\n",
    "    tokens, scores = searcher(input_batch, lengths, max_length)\n",
    "    # indexes -> words\n",
    "    decoded_words = [voc.index2word[token.item()] for token in tokens]\n",
    "    return decoded_words\n",
    "\n",
    "\n",
    "def evaluateInput(encoder, decoder, searcher, voc):\n",
    "    input_sentence = ''\n",
    "    while(1):\n",
    "        try:\n",
    "            # Get input sentence\n",
    "            input_sentence = input('> ')\n",
    "            # Check if it is quit case\n",
    "            if input_sentence == 'q' or input_sentence == 'quit': break\n",
    "            # Normalize sentence\n",
    "            input_sentence = \"-\"+input_sentence #para que siga el formato de guiones de una conversacion\n",
    "            input_sentence = process_punct(input_sentence.encode())\n",
    "#             print(input_sentence)\n",
    "            # Evaluate sentence\n",
    "            output_words = evaluate(encoder, decoder, searcher, voc, input_sentence)\n",
    "            # Format and print response sentence\n",
    "            output_words[:] = [x for x in output_words if not (x == 'EOS' or x == 'PAD')]\n",
    "            raw_ans = ' '.join(output_words)\n",
    "            ans = reformatString(raw_ans)\n",
    "            print('Bot:',ans)\n",
    "\n",
    "        except KeyError:\n",
    "            print(\"Error: Encountered unknown word.\")"
   ]
  },
  {
   "cell_type": "code",
   "execution_count": 39,
   "metadata": {
    "hidden": true
   },
   "outputs": [],
   "source": [
    "class GreedySearchDecoder(nn.Module):\n",
    "    def __init__(self, encoder, decoder):\n",
    "        super(GreedySearchDecoder, self).__init__()\n",
    "        self.encoder = encoder\n",
    "        self.decoder = decoder\n",
    "\n",
    "    def forward(self, input_seq, input_length, max_length):\n",
    "        # Forward input through encoder model\n",
    "        encoder_outputs, encoder_hidden = self.encoder(input_seq, input_length)\n",
    "        # Prepare encoder's final hidden layer to be first hidden input to the decoder\n",
    "        decoder_hidden = encoder_hidden[:decoder.n_layers]\n",
    "        # Initialize decoder input with SOS_token\n",
    "        decoder_input = torch.ones(1, 1, device=device, dtype=torch.long) * SOS_token\n",
    "        # Initialize tensors to append decoded words to\n",
    "        all_tokens = torch.zeros([0], device=device, dtype=torch.long)\n",
    "        all_scores = torch.zeros([0], device=device)\n",
    "        # Iteratively decode one word token at a time\n",
    "        for _ in range(max_length):\n",
    "            # Forward pass through decoder\n",
    "            decoder_output, decoder_hidden = self.decoder(decoder_input, decoder_hidden, encoder_outputs)\n",
    "            # Obtain most likely word token and its softmax score\n",
    "            decoder_scores, decoder_input = torch.max(decoder_output, dim=1)\n",
    "            # Record token and score\n",
    "            all_tokens = torch.cat((all_tokens, decoder_input), dim=0)\n",
    "            all_scores = torch.cat((all_scores, decoder_scores), dim=0)\n",
    "            # Prepare current token to be next decoder input (add a dimension)\n",
    "            decoder_input = torch.unsqueeze(decoder_input, 0)\n",
    "        # Return collections of word tokens and scores\n",
    "        return all_tokens, all_scores"
   ]
  },
  {
   "cell_type": "code",
   "execution_count": 40,
   "metadata": {
    "hidden": true
   },
   "outputs": [
    {
     "name": "stdout",
     "output_type": "stream",
     "text": [
      "> hola\n",
      "Bot: ¿ Cual es ? . maldita . maldita . maldita . maldita . maldita\n",
      "> tengo una pregunta\n",
      "Bot: ¿ Lo hiciste ? maldita maldita . maldita . maldita . maldita . maldita .\n",
      "> maldita\n",
      "Bot: I . . . . . . .\n",
      "> I\n",
      "Bot: I i i i i i i i i i i i i . i . i .\n",
      "> yo\n",
      "Bot: ¿ Que ? . maldita . maldita . maldita . maldita . maldita .\n",
      "> fuck\n",
      "Bot: ¿ Que ? maldita . maldita . maldita . maldita maldita . maldita .\n",
      "> mierda\n",
      "Bot: Un nuevo entierro . . i . i . i . . i .\n",
      "> se rompio\n",
      "Bot: ? . Maldita . maldita . maldita . maldita . maldita .\n",
      "> roto\n",
      "Bot: ¡ Un tipo de mierda !\n",
      "> no\n",
      "Bot: ¿ Eso es todo ? maldita . maldita . maldita . maldita . maldita maldita\n",
      "> si\n",
      "Bot: I i . i i i . i i . i . i . i .\n",
      "> voy a correr\n",
      "Bot: En el libro de cobweb en el entierro de cobweb .\n",
      "> quien\n",
      "Bot: Yo no lo hice . . . .\n",
      "> quién?\n",
      "Bot: I i ? .\n",
      "> es\n",
      "Bot: ¿ Cual es ? . maldita . maldita . maldita . maldita . maldita\n",
      "> tu padre\n",
      "Bot: ¿ Cual es ? . maldita maldita . maldita maldita . maldita . maldita .\n",
      "> ¿quién es tu padre?\n",
      "Bot: ¿ Que ? maldita . maldita . maldita . maldita . maldita .\n",
      "> qué\n",
      "Bot: Yo no voy a traer a ese tipo de peliculas de sexo .\n",
      "> mi carro\n",
      "Bot: ? . . . . . .\n",
      "> socorro\n",
      "Bot: En la red . . . . . .\n",
      "> ok ...\n",
      "Bot: I i i i i i i i i i i i i . i . i .\n",
      "> tengo sed\n",
      "Bot: ¿ Cual es un libro ? maldita maldita . maldita maldita . maldita . maldita\n",
      "> voy a entrenar\n",
      "Bot: En la casa de la red . .\n",
      "> viva el internet\n",
      "Bot: ¿ Lo conoces ? . maldita . maldita .\n",
      "> si, claro.\n",
      "Bot: Un tipo de mierda ? . . .\n",
      "> no hombre, una herramienta muy útil.\n",
      "Bot: Un gran jugador de inteligencia . . . .\n",
      "> artificial.\n",
      "Bot: I i i n i i . n i . n i . n i . n i . n\n",
      "> ni\n",
      "Bot: I i i i i i i i i i i i i i i i i n i\n",
      "> ¿te estás riendo?\n",
      "Bot: ¿ Cual es ? . maldita . maldita . maldita . maldita . maldita .\n",
      "> pff\n",
      "Bot: Yo no puedo creer que este es un jugador o un entierro o un psicopata . .\n",
      "> fdsafsdfsdf\n",
      "Bot: ¿ Podemos irnos ? . maldita . maldita . maldita . maldita .\n",
      "> sdgdsfgsdfgsdfgsdfg\n",
      "Bot: ¿ Podemos irnos ? . maldita . maldita . maldita . maldita .\n",
      "> ngngngngngngngng\n",
      "Bot: Un gran jugador de un gran jugador de personalidad . . maldita . .\n",
      "> tururu\n",
      "Bot: ¿ Quien ? . maldita . maldita . maldita . maldita . .\n",
      "> asd asda asdasd asdas\n",
      "Bot: ¿ Cual es un tipo ? .\n",
      "> a\n",
      "Bot: ¿ Cual es ? maldita . maldita maldita . maldita maldita . maldita maldita .\n",
      "> s\n",
      "Bot: ¿ Cual es ? . maldita . maldita . maldita . maldita . maldita\n",
      "> d\n",
      "Bot: ¿ Cual es ? . maldita maldita maldita . maldita maldita . maldita maldita .\n",
      "> f\n",
      "Bot: ¿ Como lo sabes ? maldita . maldita maldita maldita . maldita maldita . maldita maldita .\n",
      "> g\n",
      "Bot: ¿ Cuantos ? maldita . maldita . maldita . maldita . maldita . maldita .\n",
      "> b\n",
      "Bot: ¿ Que ? maldita maldita maldita maldita ? maldita maldita maldita ? maldita maldita maldita ?\n",
      "> v\n",
      "Bot: ¿ Cual es ? maldita . maldita maldita maldita maldita maldita maldita maldita maldita ?\n",
      "> c\n",
      "Bot: ¿ Que ? maldita . maldita . maldita maldita maldita maldita . maldita maldita maldita maldita maldita\n",
      "> x\n",
      "Bot: Yo lo digo . . . . . . . . .\n",
      "> z\n",
      "Bot: ¿ Cuantos ? maldita . maldita . maldita maldita . maldita . maldita .\n",
      "> q\n"
     ]
    }
   ],
   "source": [
    "# Set dropout layers to eval mode\n",
    "encoder.eval()\n",
    "decoder.eval()\n",
    "\n",
    "# Initialize search module\n",
    "searcher = GreedySearchDecoder(encoder, decoder)\n",
    "\n",
    "# Begin chatting (uncomment and run the following line to begin)\n",
    "evaluateInput(encoder, decoder, searcher, voc)"
   ]
  },
  {
   "cell_type": "code",
   "execution_count": null,
   "metadata": {
    "hidden": true
   },
   "outputs": [],
   "source": []
  },
  {
   "cell_type": "code",
   "execution_count": null,
   "metadata": {
    "hidden": true
   },
   "outputs": [],
   "source": []
  }
 ],
 "metadata": {
  "kernelspec": {
   "display_name": "Python [conda root]",
   "language": "python",
   "name": "conda-root-py"
  },
  "language_info": {
   "codemirror_mode": {
    "name": "ipython",
    "version": 3
   },
   "file_extension": ".py",
   "mimetype": "text/x-python",
   "name": "python",
   "nbconvert_exporter": "python",
   "pygments_lexer": "ipython3",
   "version": "3.6.8"
  }
 },
 "nbformat": 4,
 "nbformat_minor": 2
}
