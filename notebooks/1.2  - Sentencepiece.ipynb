{
 "cells": [
  {
   "cell_type": "code",
   "execution_count": 1,
   "metadata": {},
   "outputs": [
    {
     "name": "stdout",
     "output_type": "stream",
     "text": [
      "/mnt/WD Blue/Machine Learning/Proyectos/Chatbot-en-Espanol\n"
     ]
    }
   ],
   "source": [
    "cd .."
   ]
  },
  {
   "cell_type": "code",
   "execution_count": 2,
   "metadata": {},
   "outputs": [],
   "source": [
    "import sentencepiece as spm\n",
    "from settings import *\n",
    "import pickle"
   ]
  },
  {
   "cell_type": "code",
   "execution_count": 3,
   "metadata": {},
   "outputs": [],
   "source": [
    "def load_lines(how_many):\n",
    "    n = 0\n",
    "    with open(corpus, 'rb') as readfl:\n",
    "        for i, line in enumerate(readfl):\n",
    "            if max(line.find(b\"[\"),line.find(b\"]\")) == -1: #filtra los comentarios\n",
    "                n+=1\n",
    "                line = line.lstrip(b\"- \").decode()\n",
    "                yield i,line\n",
    "                if n==total_lines: break"
   ]
  },
  {
   "cell_type": "code",
   "execution_count": 4,
   "metadata": {},
   "outputs": [],
   "source": [
    "if not os.path.exists(save_dir):\n",
    "    os.makedirs(save_dir)\n",
    "    \n",
    "total_lines=500_000\n",
    "\n",
    "with open(f\"{save_dir}/writefile.txt\", 'w') as writefl:\n",
    "    for i,line in load_lines(total_lines):\n",
    "        writefl.write(line)"
   ]
  },
  {
   "cell_type": "code",
   "execution_count": 5,
   "metadata": {},
   "outputs": [
    {
     "data": {
      "text/plain": [
       "True"
      ]
     },
     "execution_count": 5,
     "metadata": {},
     "output_type": "execute_result"
    }
   ],
   "source": [
    "cmd = (f'--input={save_dir}/writefile.txt --vocab_size=15000 --model_prefix=m_bpe --model_type=bpe '\n",
    "       f'--pad_id={PAD_token} --unk_id={UNK_token} --bos_id={SOS_token} --eos_id={EOS_token} --pad_piece=[PAD] '\n",
    "       f'--unk_piece=[UNK] --bos_piece=[SOS] --eos_piece=[EOS] --normalization_rule_name=nfkc_cf')\n",
    "\n",
    "spm.SentencePieceTrainer.train(cmd)\n",
    "os.rename('./m_bpe.vocab',f'./{save_dir}/m_bpe.vocab')\n",
    "os.rename('./m_bpe.model',f'./{save_dir}/m_bpe.model')\n",
    "\n",
    "sp = spm.SentencePieceProcessor()\n",
    "sp.load(f'{save_dir}/m_bpe.model')"
   ]
  },
  {
   "cell_type": "code",
   "execution_count": 6,
   "metadata": {},
   "outputs": [
    {
     "name": "stdout",
     "output_type": "stream",
     "text": [
      "[PAD] True\n",
      "[SOS] True\n",
      "[EOS] True\n",
      "[UNK] False\n",
      "bos= 1 , eos= 2 , unk= 3 , pad= 0\n"
     ]
    }
   ],
   "source": [
    "for id in range(4):\n",
    "    print(sp.id_to_piece(id), sp.is_control(id))\n",
    "\n",
    "print('bos=', sp.bos_id(),', eos=', sp.eos_id(),', unk=', sp.unk_id(),', pad=', sp.pad_id())\n",
    "\n",
    "# print(sp.encode_as_ids('Hello world'))\n",
    "# print([sp.bos_id()] + sp.encode_as_ids('H O L A world') + [sp.eos_id()])\n",
    "\n",
    "# print(sp.encode_as_pieces('Hello world'))\n",
    "# print(sp.encode_as_pieces('HOLA Hola hola mundo estás')) \n",
    "# print([sp.bos_id()] + sp.encode_as_ids('Hola mundo estás') + [sp.eos_id()])"
   ]
  },
  {
   "cell_type": "code",
   "execution_count": 7,
   "metadata": {},
   "outputs": [],
   "source": [
    "def gen_pairs(how_many): #how many loaded line, pairs will be less\n",
    "    prev_ln = None\n",
    "    for i, line in load_lines(how_many):\n",
    "        if prev_ln == None: \n",
    "            prev_ln = sp.encode_as_ids(line.strip()) + [EOS_token]\n",
    "            prev_idx= i\n",
    "            continue\n",
    "        \n",
    "        line = sp.encode_as_ids(line.strip()) + [EOS_token]\n",
    "        if prev_idx+1 == i:\n",
    "            yield [prev_ln,line]\n",
    "\n",
    "        if i == how_many: break\n",
    "        prev_ln = line\n",
    "        prev_idx= i"
   ]
  },
  {
   "cell_type": "code",
   "execution_count": 8,
   "metadata": {},
   "outputs": [],
   "source": [
    "# for pair in gen_pairs(100):\n",
    "#     print(pair[0],sp.encode_as_pieces(sp.decode_ids(pair[0])),sp.decode_ids(pair[0]),sep=\"\\n\")\n",
    "#     print(pair[1],sp.encode_as_pieces(sp.decode_ids(pair[1])),sp.decode_ids(pair[1]),sep=\"\\n\")\n",
    "#     print()"
   ]
  },
  {
   "cell_type": "code",
   "execution_count": 9,
   "metadata": {},
   "outputs": [],
   "source": [
    "pairs = list(gen_pairs(LINES_USED))"
   ]
  },
  {
   "cell_type": "code",
   "execution_count": 10,
   "metadata": {},
   "outputs": [],
   "source": [
    "with open(save_dir + '/sp_pairs.pkl', 'wb') as file:\n",
    "    pickle.dump(pairs, file)"
   ]
  },
  {
   "cell_type": "code",
   "execution_count": null,
   "metadata": {},
   "outputs": [],
   "source": []
  }
 ],
 "metadata": {
  "kernelspec": {
   "display_name": "Python 3",
   "language": "python",
   "name": "python3"
  },
  "language_info": {
   "codemirror_mode": {
    "name": "ipython",
    "version": 3
   },
   "file_extension": ".py",
   "mimetype": "text/x-python",
   "name": "python",
   "nbconvert_exporter": "python",
   "pygments_lexer": "ipython3",
   "version": "3.7.3"
  }
 },
 "nbformat": 4,
 "nbformat_minor": 2
}
