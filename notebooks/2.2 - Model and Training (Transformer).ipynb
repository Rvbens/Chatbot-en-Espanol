{
 "cells": [
  {
   "cell_type": "code",
   "execution_count": 1,
   "metadata": {},
   "outputs": [
    {
     "name": "stdout",
     "output_type": "stream",
     "text": [
      "/mnt/WD_Blue/Machine_Learning/Proyectos/Chatbot-en-Espanol\n"
     ]
    }
   ],
   "source": [
    "cd .."
   ]
  },
  {
   "cell_type": "code",
   "execution_count": 17,
   "metadata": {},
   "outputs": [],
   "source": [
    "import torch\n",
    "import torch.nn as nn\n",
    "import torch.nn.functional as F\n",
    "\n",
    "import pickle, random, itertools, os, math\n",
    "import numpy as np\n",
    "import matplotlib.pyplot as plt\n",
    "\n",
    "from pre_processing import Voc\n",
    "from transformer import Transformer, create_masks\n",
    "from settings import *\n",
    "\n",
    "USE_CUDA = torch.cuda.is_available()\n",
    "device = torch.device(\"cuda\" if USE_CUDA else \"cpu\")"
   ]
  },
  {
   "cell_type": "markdown",
   "metadata": {},
   "source": [
    "## Loading data and batching"
   ]
  },
  {
   "cell_type": "code",
   "execution_count": 3,
   "metadata": {},
   "outputs": [],
   "source": [
    "save_dir='data/Transformer_500k_UNK'"
   ]
  },
  {
   "cell_type": "code",
   "execution_count": 4,
   "metadata": {},
   "outputs": [],
   "source": [
    "with open(save_dir + '/voc.pkl',  'rb') as f:\n",
    "    voc   = pickle.load(f)\n",
    "voc_size = voc.num_words\n",
    "\n",
    "with open(save_dir + '/pairs.pkl','rb') as f:\n",
    "    pairs = pickle.load(f)\n",
    "    \n",
    "with open(\"./data/loss_log.pkl\", 'rb') as f:\n",
    "    loss_log = pickle.load(f)"
   ]
  },
  {
   "cell_type": "code",
   "execution_count": 5,
   "metadata": {},
   "outputs": [],
   "source": [
    "# # sentencepiece\n",
    "# import sentencepiece as spm\n",
    "\n",
    "# with open(save_dir + '/sp_pairs.pkl','rb') as f:\n",
    "#     pairs = pickle.load(f)\n",
    "    \n",
    "# with open(\"./data/loss_log.pkl\", 'rb') as f:\n",
    "#     loss_log = pickle.load(f)\n",
    "\n",
    "# sp = spm.SentencePieceProcessor()\n",
    "# sp.load(f'{save_dir}/m_bpe.model')\n",
    "# voc_size = sp.get_piece_size()"
   ]
  },
  {
   "cell_type": "code",
   "execution_count": 6,
   "metadata": {},
   "outputs": [],
   "source": [
    "def zeroPadding(l, fillvalue=PAD_token):\n",
    "    return list(itertools.zip_longest(*l, fillvalue=fillvalue))\n",
    "\n",
    "def binaryMatrix(l, value=PAD_token):\n",
    "    m = []\n",
    "    for i, seq in enumerate(l):\n",
    "        m.append([])\n",
    "        for token in seq:\n",
    "            if token == PAD_token:\n",
    "                m[i].append(0)\n",
    "            else:\n",
    "                m[i].append(1)\n",
    "    return m\n",
    "\n",
    "# Returns padded input sequence tensor and lengths\n",
    "def inputVar(indexes_batch):\n",
    "    lengths = torch.tensor([len(indexes) for indexes in indexes_batch])\n",
    "    padList = zeroPadding(indexes_batch)\n",
    "    padVar = torch.LongTensor(padList)\n",
    "    return padVar, lengths\n",
    "\n",
    "# Returns padded target sequence tensor, padding mask, and max target length\n",
    "def outputVar(indexes_batch):\n",
    "    max_target_len = max([len(indexes) for indexes in indexes_batch])\n",
    "    padList = zeroPadding(indexes_batch)\n",
    "    \n",
    "    mask = binaryMatrix(padList)\n",
    "    mask = torch.ByteTensor(mask)\n",
    "    padVar = torch.LongTensor(padList)\n",
    "    return padVar, mask, max_target_len\n",
    "\n",
    "# Returns all items for a given batch of pairs\n",
    "def batch2TrainData(pair_batch):\n",
    "    pair_batch.sort(key=lambda x: len(x[0]), reverse=True) #orden por len of inp\n",
    "    input_batch, output_batch = [], []\n",
    "    for pair in pair_batch:\n",
    "        input_batch.append(pair[0])\n",
    "        output_batch.append([SOS_token]+pair[1])\n",
    "    inp, lengths = inputVar(input_batch)\n",
    "    output, mask, max_target_len = outputVar(output_batch)\n",
    "    return inp, lengths, output, mask, max_target_len"
   ]
  },
  {
   "cell_type": "code",
   "execution_count": 7,
   "metadata": {
    "scrolled": true
   },
   "outputs": [
    {
     "name": "stdout",
     "output_type": "stream",
     "text": [
      "input_variable:\n",
      " tensor([[   33,    66,   366,    31,     3,   148],\n",
      "        [ 1764,   194,    44,    47,  2073,     7],\n",
      "        [13311,   287,   196,  1005, 10120,     2],\n",
      "        [   40,  1786, 10588,  1066,     7,     0],\n",
      "        [  963,   452,     7,    37,     2,     0],\n",
      "        [   14,     7,     2,     2,     0,     0],\n",
      "        [ 1005,     2,     0,     0,     0,     0],\n",
      "        [  663,     0,     0,     0,     0,     0],\n",
      "        [  665,     0,     0,     0,     0,     0],\n",
      "        [  406,     0,     0,     0,     0,     0],\n",
      "        [    7,     0,     0,     0,     0,     0],\n",
      "        [    2,     0,     0,     0,     0,     0]])\n",
      "lengths: tensor([12,  7,  6,  6,  5,  3])\n",
      "target_variable:\n",
      " tensor([[    1,     1,     1,     1,     1,     1],\n",
      "        [  148,   173,   148,    27,    92,    92],\n",
      "        [    7,    33,     7,  1160,  1109,   223],\n",
      "        [    2,  1370,     2,  2737,  1255,     7],\n",
      "        [    0, 12397,     0,    40,    33,     7],\n",
      "        [    0, 12398,     0,  5916,    14,     7],\n",
      "        [    0,     7,     0,    35,    90,     2],\n",
      "        [    0,     2,     0,    48,  9389,     0],\n",
      "        [    0,     0,     0,  8710,     7,     0],\n",
      "        [    0,     0,     0,     7,     7,     0],\n",
      "        [    0,     0,     0,     2,     7,     0],\n",
      "        [    0,     0,     0,     0,     2,     0]])\n",
      "mask:\n",
      " tensor([[1, 1, 1, 1, 1, 1],\n",
      "        [1, 1, 1, 1, 1, 1],\n",
      "        [1, 1, 1, 1, 1, 1],\n",
      "        [1, 1, 1, 1, 1, 1],\n",
      "        [0, 1, 0, 1, 1, 1],\n",
      "        [0, 1, 0, 1, 1, 1],\n",
      "        [0, 1, 0, 1, 1, 1],\n",
      "        [0, 1, 0, 1, 1, 0],\n",
      "        [0, 0, 0, 1, 1, 0],\n",
      "        [0, 0, 0, 1, 1, 0],\n",
      "        [0, 0, 0, 1, 1, 0],\n",
      "        [0, 0, 0, 0, 1, 0]], dtype=torch.uint8)\n",
      "max_target_len: 12\n"
     ]
    }
   ],
   "source": [
    "# Example for validation\n",
    "small_batch_size = 6\n",
    "pairs_list = [random.choice(pairs) for _ in range(small_batch_size)]\n",
    "batches = batch2TrainData(pairs_list)\n",
    "input_variable, lengths, target_variable, mask, max_target_len = batches\n",
    "\n",
    "print(\"input_variable:\\n\", input_variable) #(sl,bs)\n",
    "print(\"lengths:\", lengths)\n",
    "print(\"target_variable:\\n\", target_variable)\n",
    "print(\"mask:\\n\", mask)\n",
    "print(\"max_target_len:\", max_target_len)"
   ]
  },
  {
   "cell_type": "markdown",
   "metadata": {},
   "source": [
    "## Modelo"
   ]
  },
  {
   "cell_type": "code",
   "execution_count": 8,
   "metadata": {},
   "outputs": [],
   "source": [
    "def count_parameters(model):\n",
    "    return sum(p.numel() for p in model.parameters() if p.requires_grad)"
   ]
  },
  {
   "cell_type": "code",
   "execution_count": 9,
   "metadata": {},
   "outputs": [],
   "source": [
    "d_model = 512 #original 512\n",
    "heads = 8\n",
    "N = 6 #original 6\n",
    "src_vocab = trg_vocab = voc_size\n",
    "model = Transformer(src_vocab, trg_vocab, d_model, N, heads,0.1)\n",
    "for p in model.parameters():\n",
    "    if p.dim() > 1:\n",
    "        nn.init.xavier_uniform_(p)\n",
    "# this code is very important! It initialises the parameters with a\n",
    "# range of values that stops the signal fading or getting too big.\n",
    "# See this blog for a mathematical explanation.\n",
    "optim = torch.optim.Adam(model.parameters(), lr=1e-4, betas=(0.9, 0.98), eps=1e-9)"
   ]
  },
  {
   "cell_type": "code",
   "execution_count": 10,
   "metadata": {},
   "outputs": [
    {
     "data": {
      "text/plain": [
       "65292738"
      ]
     },
     "execution_count": 10,
     "metadata": {},
     "output_type": "execute_result"
    }
   ],
   "source": [
    "count_parameters(model)"
   ]
  },
  {
   "cell_type": "code",
   "execution_count": 11,
   "metadata": {
    "scrolled": true
   },
   "outputs": [],
   "source": [
    "model = model.to(device)"
   ]
  },
  {
   "cell_type": "markdown",
   "metadata": {},
   "source": [
    "## Training"
   ]
  },
  {
   "cell_type": "code",
   "execution_count": 12,
   "metadata": {},
   "outputs": [],
   "source": [
    "def plot_loss(d):\n",
    "    x,y=[],[]\n",
    "    for k,v in d.items():\n",
    "            x.append(k)\n",
    "            y.append(v)\n",
    "    plt.plot(x,y)"
   ]
  },
  {
   "cell_type": "code",
   "execution_count": 13,
   "metadata": {},
   "outputs": [],
   "source": [
    "def train_model(n_iteration, batch_size, total_iter, print_every=1000,save_every=1000):\n",
    "    \n",
    "    start_iteration = 0\n",
    "    print_loss = 0\n",
    "    if loadFilename:\n",
    "        start_iteration = checkpoint['iteration']\n",
    "    \n",
    "    model.train()\n",
    "    total_loss = 0\n",
    "    \n",
    "    training_batches = [batch2TrainData([random.choice(pairs) for _ in range(batch_size)])\n",
    "                      for _ in range(n_iteration)]\n",
    "    \n",
    "    for iteration in range(1,n_iteration+1):\n",
    "        training_batch = training_batches[iteration-1]       \n",
    "        inp, _, tar, _, _ = training_batch  \n",
    "        src = inp.transpose(0,1)\n",
    "        trg = tar.transpose(0,1)\n",
    "        \n",
    "        # the last, as it is using each word to predict the next\n",
    "        trg_input = trg[:, :-1]\n",
    "        targets = trg[:, 1:].contiguous().view(-1) # the words we are trying to predict\n",
    "        \n",
    "        src = src.to(device)\n",
    "        trg_input = trg_input.to(device)\n",
    "        targets = targets.to(device)\n",
    "        \n",
    "        preds = model(src, trg_input)\n",
    "        optim.zero_grad()\n",
    "\n",
    "        loss = F.cross_entropy(preds.view(-1, preds.size(-1)),\n",
    "        targets, ignore_index=PAD_token)\n",
    "        loss.backward()\n",
    "        optim.step()\n",
    "\n",
    "        total_loss += loss.item()\n",
    "        if (iteration + 1) % print_every == 0:\n",
    "            loss_avg = total_loss / print_every\n",
    "            loss_dict[total_iter+iteration] = loss_avg\n",
    "            print(f\"iter {iteration + 1}, loss = {loss_avg:.3f}\")\n",
    "            plot_loss(loss_dict)\n",
    "            total_loss = 0\n",
    "    \n",
    "        if (iteration % save_every == 0):\n",
    "            directory = os.path.join(save_dir, \"checkpoints\")\n",
    "            if not os.path.exists(directory):\n",
    "                os.makedirs(directory)\n",
    "            torch.save({\n",
    "                'iteration': start_iteration+iteration,\n",
    "                'params': model.state_dict(),\n",
    "                'opt': optim.state_dict(),\n",
    "                'loss': loss,\n",
    "                'voc_dict': voc.__dict__,\n",
    "                \"total_iter\": total_iter+iteration,\n",
    "                'loss': loss_dict #for plotting\n",
    "            }, os.path.join(directory, 'transformer_checkpoint.tar'))\n",
    "    \n",
    "    \n",
    "    with open(\"./data/loss_log.pkl\", 'wb') as f:\n",
    "        loss_log['transformer_2_5m'] = loss_dict\n",
    "        pickle.dump(loss_log, f)"
   ]
  },
  {
   "cell_type": "code",
   "execution_count": 14,
   "metadata": {},
   "outputs": [],
   "source": [
    "train_from_zero = True\n",
    "load_last_iter  = False\n",
    "chkpt_dir = os.path.join(save_dir, \"checkpoints\")\n",
    "\n",
    "if train_from_zero:\n",
    "    loadFilename = None\n",
    "    total_iter = 0\n",
    "    loss_dict = {}\n",
    "else:\n",
    "    if load_last_iter: #load last save\n",
    "        chkpt = os.listdir(chkpt_dir)[-1]\n",
    "        loadFilename = os.path.join(chkpt_dir,chkpt)\n",
    "    else:    \n",
    "        checkpoint_iter = 10_000 #load especific iter\n",
    "        loadFilename = os.path.join(chkpt_dir, 'transformer_checkpoint.tar')\n",
    "# load thigs\n",
    "if loadFilename:\n",
    "    # If loading on same machine the model was trained on\n",
    "    checkpoint = torch.load(loadFilename)\n",
    "    # If loading a model trained on GPU to CPU\n",
    "    #checkpoint = torch.load(loadFilename, map_location=torch.device('cpu'))+\n",
    "    model.load_state_dict(checkpoint['params'])\n",
    "    voc.__dict__ = checkpoint['voc_dict']\n",
    "    total_iter = checkpoint[\"total_iter\"]\n",
    "    loss_dict = checkpoint[\"loss\"]\n",
    "    optim.load_state_dict(checkpoint['opt'])"
   ]
  },
  {
   "cell_type": "code",
   "execution_count": 15,
   "metadata": {},
   "outputs": [],
   "source": [
    "iters = 10_000\n",
    "bs = 64\n",
    "print_every = 1_000\n",
    "save_every = 11_000"
   ]
  },
  {
   "cell_type": "code",
   "execution_count": null,
   "metadata": {},
   "outputs": [],
   "source": [
    "%%time\n",
    "train_model(iters,bs,total_iter,print_every,save_every)"
   ]
  },
  {
   "cell_type": "code",
   "execution_count": 233,
   "metadata": {},
   "outputs": [
    {
     "name": "stdout",
     "output_type": "stream",
     "text": [
      "OpenSubtitle_PUNCT3_UNK\n",
      "OpenSubtitle_P3_500k_WT_UNK\n",
      "transformer\n"
     ]
    },
    {
     "data": {
      "image/png": "[encoded data removed]",
      "text/plain": [
       "<Figure size 432x288 with 1 Axes>"
      ]
     },
     "metadata": {
      "needs_background": "light"
     },
     "output_type": "display_data"
    }
   ],
   "source": [
    "ls = ['OpenSubtitle_PUNCT3_UNK', 'OpenSubtitle_P3_500k_WT_UNK', 'transformer']\n",
    "for l in ls:\n",
    "    print(l)\n",
    "    plot_loss(loss_log[l])\n",
    "    plt.gca().legend(ls)"
   ]
  },
  {
   "cell_type": "code",
   "execution_count": 124,
   "metadata": {},
   "outputs": [],
   "source": [
    "# l = list(loss_log.keys())\n",
    "# for k,v in loss_log.items():\n",
    "#     plot_loss(v)\n",
    "#     plt.gca().legend(l)"
   ]
  },
  {
   "cell_type": "markdown",
   "metadata": {
    "heading_collapsed": true
   },
   "source": [
    "## Eval "
   ]
  },
  {
   "cell_type": "code",
   "execution_count": 26,
   "metadata": {
    "hidden": true
   },
   "outputs": [],
   "source": [
    "import re\n",
    "from pre_processing import process_punct, indexesFromSentence"
   ]
  },
  {
   "cell_type": "code",
   "execution_count": 27,
   "metadata": {
    "hidden": true
   },
   "outputs": [],
   "source": [
    "def custom_capitalize(s):\n",
    "    for i, c in enumerate(s):\n",
    "        if c.isalpha():\n",
    "            break\n",
    "    return s[:i] + s[i:].capitalize()"
   ]
  },
  {
   "cell_type": "code",
   "execution_count": 28,
   "metadata": {
    "hidden": true
   },
   "outputs": [],
   "source": [
    "def reformatString(l):\n",
    "    s = l.strip().lower()\n",
    "#     s = re.sub(r\"<guion_inic>\",r\"\", s)\n",
    "    s = re.sub(r\"\\s+([.!?])\", r\"\\1\", s)\n",
    "    s = re.sub(r\"([¡¿])\\s+\", r\"\\1\", s)\n",
    "    s = re.sub(r\"\\s+\", r\" \", s)\n",
    "    return custom_capitalize(s).strip()"
   ]
  },
  {
   "cell_type": "code",
   "execution_count": 29,
   "metadata": {
    "hidden": true
   },
   "outputs": [],
   "source": [
    "#GreedySearch\n",
    "def GreedySearchTransform(model, src):\n",
    "    src_mask = (src != PAD_token).unsqueeze(-2)\n",
    "    e_outputs= model.encoder(src, src_mask)\n",
    "\n",
    "    outputs = torch.zeros(MAX_LENGTH).type_as(src.data)\n",
    "    outputs[0] = torch.LongTensor([SOS_token])\n",
    "    \n",
    "    for i in range(1, MAX_LENGTH):\n",
    "        trg_mask = nopeak_mask(i).cuda()\n",
    "\n",
    "        out = model.out(model.decoder(outputs[:i].unsqueeze(0),e_outputs, src_mask, trg_mask))\n",
    "        out = F.softmax(out, dim=-1)\n",
    "        val, ix = out[:, -1].data.topk(1)\n",
    "\n",
    "        outputs[i] = ix[0][0]\n",
    "                           \n",
    "        if ix[0][0] == EOS_token:\n",
    "            break\n",
    "                           \n",
    "    return outputs"
   ]
  },
  {
   "cell_type": "code",
   "execution_count": 30,
   "metadata": {
    "hidden": true
   },
   "outputs": [],
   "source": [
    "def init_vars(src, model, k):\n",
    "    src_mask = (src != PAD_token).unsqueeze(-2)\n",
    "    e_output = model.encoder(src, src_mask)\n",
    "    \n",
    "    frst_dec_inp = torch.LongTensor([[SOS_token]]).cuda()\n",
    "    trg_mask = nopeak_mask(1).cuda()\n",
    "    \n",
    "    out = model.out(model.decoder(frst_dec_inp, e_output, src_mask, trg_mask))\n",
    "    out = F.softmax(out, dim=-1) #(bs,sl,voc_size)\n",
    "    \n",
    "    probs, ix = out[:, -1].data.topk(k) #(1,k)\n",
    "    log_scores = torch.Tensor([math.log(prob) for prob in probs.data[0]]).unsqueeze(0) #(1,k)\n",
    "   \n",
    "    k_outs = torch.zeros(k, MAX_LENGTH).long().cuda()\n",
    "    \n",
    "    k_outs[:, 0] = SOS_token\n",
    "    k_outs[:, 1] = ix[0] #first col with all the first k words\n",
    "    \n",
    "    e_outputs = torch.zeros(k, e_output.size(-2),e_output.size(-1)).cuda()\n",
    "    e_outputs[:, :] = e_output[0]\n",
    "    \n",
    "    return k_outs, e_outputs, log_scores\n",
    "\n",
    "def k_best_outputs(k_outs, out, log_scores, i, k):\n",
    "    \n",
    "    probs, ix = out[:, -1].data.topk(k)\n",
    "    log_probs = torch.Tensor([math.log(p) for p in probs.data.view(-1)]).view(k, -1) + log_scores.transpose(0,1)\n",
    "    k_probs, k_ix = log_probs.view(-1).topk(k)\n",
    "    \n",
    "    row = k_ix // k\n",
    "    col = k_ix % k\n",
    "\n",
    "    k_outs[:, :i] = k_outs[row, :i]\n",
    "    k_outs[:, i] = ix[row, col]\n",
    "\n",
    "    log_scores = k_probs.unsqueeze(0)\n",
    "    \n",
    "    return k_outs, log_scores\n",
    "\n",
    "def beam_search(model, src, k=10):\n",
    "    \n",
    "    k_outs, e_outputs, log_scores = init_vars(src, model, k)\n",
    "    src_mask = (src != PAD_token).unsqueeze(-2)\n",
    "    ind = 0\n",
    "    score= torch.tensor([[1 for i in range(k)]]).float()\n",
    "    for i in range(2, MAX_LENGTH):\n",
    "        trg_mask = nopeak_mask(i).cuda()\n",
    "        out = model.out(model.decoder(k_outs[:,:i],e_outputs, src_mask, trg_mask))\n",
    "        out = F.softmax(out, dim=-1)\n",
    "\n",
    "        k_outs, log_scores = k_best_outputs(k_outs, out, log_scores, i, k)\n",
    "        \n",
    "        finish_outs = len(set((k_outs==EOS_token).nonzero()[:,0].cpu().numpy()))\n",
    "        if finish_outs == k:\n",
    "            break\n",
    "\n",
    "    alpha = 0.7\n",
    "    \n",
    "    x = (k_outs==EOS_token).nonzero()\n",
    "    EOS_idx = []\n",
    "    out_idx=0\n",
    "    for i in range(len(x)):\n",
    "        if x[i][0] == out_idx:\n",
    "            EOS_idx.append(i)\n",
    "            out_idx+=1\n",
    "    out_lens = x[EOS_idx][:,1]\n",
    "    div = 1/(out_lens.type_as(log_scores)**alpha)\n",
    "    score = log_scores * div\n",
    "    _, ind = torch.max(score, 1)\n",
    "    ind = ind.data[0]\n",
    "    \n",
    "    out = k_outs[random.choices([i for i in range(k)], torch.exp(score[0]))]\n",
    "    length = (out[0]==EOS_token).nonzero()[0]\n",
    "    out = out[0][1:length]\n",
    "\n",
    "    return out"
   ]
  },
  {
   "cell_type": "code",
   "execution_count": 31,
   "metadata": {
    "hidden": true
   },
   "outputs": [
    {
     "name": "stdout",
     "output_type": "stream",
     "text": [
      "['hola', '.']\n"
     ]
    },
    {
     "data": {
      "text/plain": [
       "'¿Cómo está?'"
      ]
     },
     "execution_count": 31,
     "metadata": {},
     "output_type": "execute_result"
    }
   ],
   "source": [
    "sentence = process_punct(\"hola.\".encode()).split()\n",
    "print(sentence)\n",
    "indexes_batch = [indexesFromSentence(sentence, voc)] #list of tokens\n",
    "# Transpose dimensions of batch to match models' expectations\n",
    "src = torch.LongTensor(indexes_batch).cuda()\n",
    "\n",
    "# tokens=GreedySearchTransform(model,input_batch,50)\n",
    "out = beam_search(model,src,10)\n",
    "\n",
    "output_words = [voc.index2word[token.item()] for token in out]\n",
    "output_words[:] = [x for x in output_words if not (x == 'EOS' or x == 'PAD')]\n",
    "raw_ans = ' '.join(output_words)\n",
    "ans = reformatString(raw_ans)\n",
    "ans"
   ]
  },
  {
   "cell_type": "code",
   "execution_count": 32,
   "metadata": {
    "hidden": true
   },
   "outputs": [],
   "source": [
    "def evaluate(model, searcher, voc, sentence, max_length=MAX_LENGTH):\n",
    "    ### Format input sentence as a batch\n",
    "    # words -> indexes\n",
    "    sentence = sentence.split()\n",
    "    indexes_batch = [indexesFromSentence(sentence, voc)] #list of tokens\n",
    "    # Transpose dimensions of batch to match models' expectations\n",
    "    input_batch = torch.LongTensor(indexes_batch).cuda() #(bs=1,seq_len)\n",
    "    # Decode sentence with searcher\n",
    "    tokens = searcher(model, input_batch)\n",
    "    # indexes -> words\n",
    "    decoded_words = [voc.index2word[token.item()] for token in tokens]\n",
    "    return decoded_words\n",
    "\n",
    "#bot cycle, receive input and outputs answer\n",
    "def evaluateInput(model, searcher, voc):\n",
    "    input_sentence = ''\n",
    "    while(1):\n",
    "        try:\n",
    "            # Get input sentence\n",
    "            input_sentence = input('> ')\n",
    "            # Check if it is quit case\n",
    "            if input_sentence == 'q' or input_sentence == 'quit': break\n",
    "            # Normalize sentence\n",
    "#             input_sentence = \"-\"+input_sentence #para que siga el formato de guiones de una conversacion\n",
    "            input_sentence = process_punct(input_sentence.encode())\n",
    "            # Evaluate sentence\n",
    "            output_words = evaluate(model, searcher, voc, input_sentence)\n",
    "            # Format and print response sentence\n",
    "            output_words[:] = [x for x in output_words if not (x =='SOS' or x == 'EOS' or x == 'PAD')]\n",
    "            raw_ans = ' '.join(output_words)\n",
    "            ans = reformatString(raw_ans)\n",
    "            print('Bot:',ans)\n",
    "\n",
    "        except KeyError:\n",
    "            print(\"Error: Encountered unknown word.\")"
   ]
  },
  {
   "cell_type": "code",
   "execution_count": 33,
   "metadata": {
    "hidden": true,
    "scrolled": true
   },
   "outputs": [
    {
     "name": "stdout",
     "output_type": "stream",
     "text": [
      "> hola.\n",
      "Bot: Hola.\n",
      "> hola.\n",
      "Bot: ¡Hola!\n",
      "> hola.\n",
      "Bot: ¿Cómo está?\n",
      "> yo bien, ¿y tú?\n",
      "Bot: Sí.\n",
      "> bueno me alegro.\n",
      "Bot: Me alegro mucho de verte.\n",
      "> si claro..\n",
      "Bot: Gracias.\n",
      "> de nada.\n",
      "Bot: Buenas noches.\n",
      "> adiós\n",
      "Bot: Adiós...\n",
      "> no quiero irme.\n",
      "Bot: ¿A dónde va?\n",
      "> a robar carteras.\n",
      "Bot: ¿Está loco?\n",
      "> solo un poco.\n",
      "Bot: No.\n",
      "> bueno vale.\n",
      "Bot: Buenas noches.\n",
      "> ¡que no me voy!\n",
      "Bot: ¡Le voy a matar!\n",
      "> inténtalo.\n",
      "Bot: Tampoco lo prometo.\n",
      "> no te eches atrás ahora.\n",
      "Bot: Por favor jessica.\n",
      "> no me llamo jessica.\n",
      "Bot: No la llevo encima.\n",
      "> ¿la pistola?\n",
      "Bot: Quiero hablar con usted.\n",
      "> ¿de qué?\n",
      "Bot: Creí que había dicho algo.\n",
      "> q\n"
     ]
    }
   ],
   "source": [
    "# Set dropout layers to eval mode\n",
    "model.eval()\n",
    "\n",
    "# Initialize search module\n",
    "# searcher = GreedySearchTransform\n",
    "searcher = beam_search\n",
    "\n",
    "# Begin chatting (uncomment and run the following line to begin)\n",
    "evaluateInput(model, searcher, voc)"
   ]
  },
  {
   "cell_type": "code",
   "execution_count": null,
   "metadata": {
    "hidden": true
   },
   "outputs": [],
   "source": []
  }
 ],
 "metadata": {
  "kernelspec": {
   "display_name": "Python 3",
   "language": "python",
   "name": "python3"
  },
  "language_info": {
   "codemirror_mode": {
    "name": "ipython",
    "version": 3
   },
   "file_extension": ".py",
   "mimetype": "text/x-python",
   "name": "python",
   "nbconvert_exporter": "python",
   "pygments_lexer": "ipython3",
   "version": "3.7.3"
  }
 },
 "nbformat": 4,
 "nbformat_minor": 2
}
