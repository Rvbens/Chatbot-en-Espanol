{
 "cells": [
  {
   "cell_type": "markdown",
   "metadata": {
    "heading_collapsed": true
   },
   "source": [
    "## For the seq2seq model"
   ]
  },
  {
   "cell_type": "code",
   "execution_count": 1,
   "metadata": {
    "hidden": true
   },
   "outputs": [
    {
     "name": "stdout",
     "output_type": "stream",
     "text": [
      "/mnt/WD_Blue/Machine_Learning/Proyectos/Chatbot-en-Espanol\n"
     ]
    }
   ],
   "source": [
    "cd .."
   ]
  },
  {
   "cell_type": "code",
   "execution_count": 2,
   "metadata": {
    "hidden": true
   },
   "outputs": [
    {
     "name": "stdout",
     "output_type": "stream",
     "text": [
      "Loading: data/OpenSubtitle_P3_500k_UNK\n",
      "Building encoder and decoder ...\n",
      "Models built and ready to go!\n",
      "Building optimizers ...\n"
     ]
    }
   ],
   "source": [
    "# import sys\n",
    "# sys.path.append(\"..\")\n",
    "from pre_processing import Voc\n",
    "from load_bot import evaluateOneInput, evaluateCycle"
   ]
  },
  {
   "cell_type": "code",
   "execution_count": 3,
   "metadata": {
    "hidden": true
   },
   "outputs": [
    {
     "data": {
      "text/plain": [
       "'¿Qué es eso de que el juez no se puede pedir una visita?'"
      ]
     },
     "execution_count": 3,
     "metadata": {},
     "output_type": "execute_result"
    }
   ],
   "source": [
    "evaluateOneInput(\"hola\")"
   ]
  },
  {
   "cell_type": "code",
   "execution_count": 6,
   "metadata": {
    "hidden": true
   },
   "outputs": [
    {
     "name": "stdout",
     "output_type": "stream",
     "text": [
      "Enter q or quit to exit\n",
      "> buenas.\n",
      "Bot: Buenas...... tardes.\n",
      "> q\n"
     ]
    }
   ],
   "source": [
    "evaluateCycle()"
   ]
  },
  {
   "cell_type": "markdown",
   "metadata": {},
   "source": [
    "## For the transformer model"
   ]
  },
  {
   "cell_type": "code",
   "execution_count": 1,
   "metadata": {},
   "outputs": [
    {
     "name": "stdout",
     "output_type": "stream",
     "text": [
      "/media/ruben/WD Blue/Machine_Learning/Proyectos/Chatbot-en-Espanol\n"
     ]
    }
   ],
   "source": [
    "cd .."
   ]
  },
  {
   "cell_type": "code",
   "execution_count": 2,
   "metadata": {},
   "outputs": [
    {
     "name": "stdout",
     "output_type": "stream",
     "text": [
      "Loading: data/Transformer_500k_UNK\n",
      "Enter q or quit to exit\n",
      "> q\n"
     ]
    }
   ],
   "source": [
    "from spanish_chatbot import TransformerChatbot\n",
    "\n",
    "chatbot = TransformerChatbot(load_quant=True,use_cuda=False) # load pre-trained model\n",
    "chatbot.evaluateOneInput('Hola')                             # one input, one output\n",
    "chatbot.evaluateCycle()                                      # Cicle of input and outputs"
   ]
  },
  {
   "cell_type": "code",
   "execution_count": null,
   "metadata": {},
   "outputs": [],
   "source": []
  }
 ],
 "metadata": {
  "kernelspec": {
   "display_name": "Python 3",
   "language": "python",
   "name": "python3"
  },
  "language_info": {
   "codemirror_mode": {
    "name": "ipython",
    "version": 3
   },
   "file_extension": ".py",
   "mimetype": "text/x-python",
   "name": "python",
   "nbconvert_exporter": "python",
   "pygments_lexer": "ipython3",
   "version": "3.7.4"
  }
 },
 "nbformat": 4,
 "nbformat_minor": 2
}
