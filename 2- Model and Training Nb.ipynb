{
 "cells": [
  {
   "cell_type": "code",
   "execution_count": 1,
   "metadata": {},
   "outputs": [],
   "source": [
    "import torch\n",
    "import torch.nn as nn\n",
    "from torch import optim\n",
    "import torch.nn.functional as F\n",
    "\n",
    "import pickle, random, itertools, os\n",
    "import numpy as np\n",
    "import matplotlib.pyplot as plt\n",
    "\n",
    "from pre_processing import Voc\n",
    "from settings import *\n",
    "\n",
    "USE_CUDA = torch.cuda.is_available()\n",
    "device = torch.device(\"cuda\" if USE_CUDA else \"cpu\")"
   ]
  },
  {
   "cell_type": "markdown",
   "metadata": {
    "heading_collapsed": true
   },
   "source": [
    "## Loading data and batching"
   ]
  },
  {
   "cell_type": "code",
   "execution_count": 2,
   "metadata": {
    "hidden": true
   },
   "outputs": [],
   "source": [
    "with open(save_dir + '/voc.pkl',  'rb') as f:\n",
    "    voc   = pickle.load(f)\n",
    "    \n",
    "with open(save_dir + '/pairs.pkl','rb') as f:\n",
    "    pairs = pickle.load(f)\n",
    "    \n",
    "with open(\"./data/loss_log.pkl\", 'rb') as f:\n",
    "    loss_log = pickle.load(f)"
   ]
  },
  {
   "cell_type": "code",
   "execution_count": 3,
   "metadata": {
    "hidden": true
   },
   "outputs": [],
   "source": [
    "def zeroPadding(l, fillvalue=PAD_token):\n",
    "    return list(itertools.zip_longest(*l, fillvalue=fillvalue))\n",
    "\n",
    "def binaryMatrix(l, value=PAD_token):\n",
    "    m = []\n",
    "    for i, seq in enumerate(l):\n",
    "        m.append([])\n",
    "        for token in seq:\n",
    "            if token == PAD_token:\n",
    "                m[i].append(0)\n",
    "            else:\n",
    "                m[i].append(1)\n",
    "    return m\n",
    "\n",
    "# Returns padded input sequence tensor and lengths\n",
    "def inputVar(indexes_batch):\n",
    "    lengths = torch.tensor([len(indexes) for indexes in indexes_batch])\n",
    "    padList = zeroPadding(indexes_batch)\n",
    "    padVar = torch.LongTensor(padList)\n",
    "    return padVar, lengths\n",
    "\n",
    "# Returns padded target sequence tensor, padding mask, and max target length\n",
    "def outputVar(indexes_batch):\n",
    "    max_target_len = max([len(indexes) for indexes in indexes_batch])\n",
    "    padList = zeroPadding(indexes_batch)\n",
    "    mask = binaryMatrix(padList)\n",
    "    mask = torch.ByteTensor(mask)\n",
    "    padVar = torch.LongTensor(padList)\n",
    "    return padVar, mask, max_target_len\n",
    "\n",
    "# Returns all items for a given batch of pairs\n",
    "def batch2TrainData(pair_batch):\n",
    "    pair_batch.sort(key=lambda x: len(x[0]), reverse=True)\n",
    "    input_batch, output_batch = [], []\n",
    "    for pair in pair_batch:\n",
    "        input_batch.append(pair[0])\n",
    "        output_batch.append(pair[1])\n",
    "    inp, lengths = inputVar(input_batch)\n",
    "    output, mask, max_target_len = outputVar(output_batch)\n",
    "    return inp, lengths, output, mask, max_target_len"
   ]
  },
  {
   "cell_type": "code",
   "execution_count": 4,
   "metadata": {
    "hidden": true,
    "scrolled": true
   },
   "outputs": [
    {
     "name": "stdout",
     "output_type": "stream",
     "text": [
      "input_variable:\n",
      " tensor([[   11,    38,    14,    14,     3,  1377],\n",
      "        [  452,  4735,  1786,  1927,  2459,  4437],\n",
      "        [   27,     3,    82,    87,     7,     7],\n",
      "        [  105,     3,  3707,   193, 12153,     2],\n",
      "        [  239,     3,    27,     5,     7,     0],\n",
      "        [    9,  1009,  9617,  5872,     2,     0],\n",
      "        [    3,     3,    37,     7,     0,     0],\n",
      "        [   39,     7,     2,     2,     0,     0],\n",
      "        [ 2434,     2,     0,     0,     0,     0],\n",
      "        [    7,     0,     0,     0,     0,     0],\n",
      "        [    2,     0,     0,     0,     0,     0]])\n",
      "lengths: tensor([11,  9,  8,  8,  6,  4])\n",
      "target_variable:\n",
      " tensor([[  206,    95,   175,   313,  1830,   475],\n",
      "        [  806,   700,    38,    14,    11,  1990],\n",
      "        [ 1523,   370, 11845,   912,   712,   743],\n",
      "        [   92,   209,    37,  1918,  7269,     7],\n",
      "        [  806,   457,     2,    35,     7,     2],\n",
      "        [  181,  1103,     0,  2780,     2,     0],\n",
      "        [    7,     7,     0,    47,     0,     0],\n",
      "        [    2,     2,     0,  1357,     0,     0],\n",
      "        [    0,     0,     0,   209,     0,     0],\n",
      "        [    0,     0,     0,    38,     0,     0],\n",
      "        [    0,     0,     0,  1076,     0,     0],\n",
      "        [    0,     0,     0,   226,     0,     0],\n",
      "        [    0,     0,     0,     7,     0,     0],\n",
      "        [    0,     0,     0,     2,     0,     0]])\n",
      "mask:\n",
      " tensor([[1, 1, 1, 1, 1, 1],\n",
      "        [1, 1, 1, 1, 1, 1],\n",
      "        [1, 1, 1, 1, 1, 1],\n",
      "        [1, 1, 1, 1, 1, 1],\n",
      "        [1, 1, 1, 1, 1, 1],\n",
      "        [1, 1, 0, 1, 1, 0],\n",
      "        [1, 1, 0, 1, 0, 0],\n",
      "        [1, 1, 0, 1, 0, 0],\n",
      "        [0, 0, 0, 1, 0, 0],\n",
      "        [0, 0, 0, 1, 0, 0],\n",
      "        [0, 0, 0, 1, 0, 0],\n",
      "        [0, 0, 0, 1, 0, 0],\n",
      "        [0, 0, 0, 1, 0, 0],\n",
      "        [0, 0, 0, 1, 0, 0]], dtype=torch.uint8)\n",
      "max_target_len: 14\n"
     ]
    }
   ],
   "source": [
    "# Example for validation\n",
    "small_batch_size = 6\n",
    "pairs_list = [random.choice(pairs) for _ in range(small_batch_size)]\n",
    "batches = batch2TrainData(pairs_list)\n",
    "input_variable, lengths, target_variable, mask, max_target_len = batches\n",
    "\n",
    "print(\"input_variable:\\n\", input_variable)\n",
    "print(\"lengths:\", lengths)\n",
    "print(\"target_variable:\\n\", target_variable)\n",
    "print(\"mask:\\n\", mask)\n",
    "print(\"max_target_len:\", max_target_len)"
   ]
  },
  {
   "cell_type": "markdown",
   "metadata": {
    "heading_collapsed": true
   },
   "source": [
    "## Modelo"
   ]
  },
  {
   "cell_type": "code",
   "execution_count": 5,
   "metadata": {
    "hidden": true
   },
   "outputs": [],
   "source": [
    "class EncoderRNN(nn.Module):\n",
    "    def __init__(self, hidden_size, embedding, n_layers=1, dropout=0):\n",
    "        super(EncoderRNN, self).__init__()\n",
    "        self.n_layers = n_layers\n",
    "        self.hidden_size = hidden_size\n",
    "        self.embedding = embedding\n",
    "\n",
    "        # Initialize GRU; the input_size and hidden_size params are both set to 'hidden_size'\n",
    "        #   because our input size is a word embedding with number of features == hidden_size\n",
    "        self.gru = nn.GRU(hidden_size, hidden_size, n_layers,\n",
    "                          dropout=(0 if n_layers == 1 else dropout), bidirectional=True)\n",
    "\n",
    "    def forward(self, input_seq, input_lengths, hidden=None):\n",
    "        # Convert word indexes to embeddings\n",
    "        embedded = self.embedding(input_seq)\n",
    "        # Pack padded batch of sequences for RNN module\n",
    "        packed = torch.nn.utils.rnn.pack_padded_sequence(embedded, input_lengths)\n",
    "        # Forward pass through GRU\n",
    "        outputs, hidden = self.gru(packed, hidden)\n",
    "        # Unpack padding\n",
    "        outputs, _ = torch.nn.utils.rnn.pad_packed_sequence(outputs)\n",
    "        # Sum bidirectional GRU outputs\n",
    "        outputs = outputs[:, :, :self.hidden_size] + outputs[:, : ,self.hidden_size:]\n",
    "        # Return output and final hidden state\n",
    "        return outputs, hidden"
   ]
  },
  {
   "cell_type": "code",
   "execution_count": 6,
   "metadata": {
    "hidden": true
   },
   "outputs": [],
   "source": [
    "# Luong attention layer\n",
    "class Attn(torch.nn.Module):\n",
    "    def __init__(self, method, hidden_size):\n",
    "        super(Attn, self).__init__()\n",
    "        self.method = method\n",
    "        if self.method not in ['dot', 'general', 'concat']:\n",
    "            raise ValueError(self.method, \"is not an appropriate attention method.\")\n",
    "        self.hidden_size = hidden_size\n",
    "        if self.method == 'general':\n",
    "            self.attn = torch.nn.Linear(self.hidden_size, hidden_size)\n",
    "        elif self.method == 'concat':\n",
    "            self.attn = torch.nn.Linear(self.hidden_size * 2, hidden_size)\n",
    "            self.v = torch.nn.Parameter(torch.FloatTensor(hidden_size))\n",
    "\n",
    "    def dot_score(self, hidden, encoder_output):\n",
    "        return torch.sum(hidden * encoder_output, dim=2)\n",
    "\n",
    "    def general_score(self, hidden, encoder_output):\n",
    "        energy = self.attn(encoder_output)\n",
    "        return torch.sum(hidden * energy, dim=2)\n",
    "\n",
    "    def concat_score(self, hidden, encoder_output):\n",
    "        energy = self.attn(torch.cat((hidden.expand(encoder_output.size(0), -1, -1), encoder_output), 2)).tanh()\n",
    "        return torch.sum(self.v * energy, dim=2)\n",
    "\n",
    "    def forward(self, hidden, encoder_outputs):\n",
    "        # Calculate the attention weights (energies) based on the given method\n",
    "        if self.method == 'general':\n",
    "            attn_energies = self.general_score(hidden, encoder_outputs)\n",
    "        elif self.method == 'concat':\n",
    "            attn_energies = self.concat_score(hidden, encoder_outputs)\n",
    "        elif self.method == 'dot':\n",
    "            attn_energies = self.dot_score(hidden, encoder_outputs)\n",
    "\n",
    "        # Transpose max_length and batch_size dimensions\n",
    "        attn_energies = attn_energies.t()\n",
    "\n",
    "        # Return the softmax normalized probability scores (with added dimension)\n",
    "        return F.softmax(attn_energies, dim=1).unsqueeze(1)"
   ]
  },
  {
   "cell_type": "code",
   "execution_count": 7,
   "metadata": {
    "hidden": true
   },
   "outputs": [],
   "source": [
    "class LuongAttnDecoderRNN(nn.Module):\n",
    "    def __init__(self, attn_model, embedding, hidden_size, output_size, n_layers=1, dropout=0.1):\n",
    "        super(LuongAttnDecoderRNN, self).__init__()\n",
    "\n",
    "        # Keep for reference\n",
    "        self.attn_model = attn_model\n",
    "        self.hidden_size = hidden_size\n",
    "        self.output_size = output_size\n",
    "        self.n_layers = n_layers\n",
    "        self.dropout = dropout\n",
    "\n",
    "        # Define layers\n",
    "        self.embedding = embedding\n",
    "        self.embedding_dropout = nn.Dropout(dropout)\n",
    "        self.gru = nn.GRU(hidden_size, hidden_size, n_layers, dropout=(0 if n_layers == 1 else dropout))\n",
    "        self.concat = nn.Linear(hidden_size * 2, hidden_size)\n",
    "        self.out = nn.Linear(hidden_size, output_size)\n",
    "\n",
    "        self.attn = Attn(attn_model, hidden_size)\n",
    "\n",
    "    def forward(self, input_step, last_hidden, encoder_outputs):\n",
    "        # Note: we run this one step (word) at a time\n",
    "        # Get embedding of current input word\n",
    "        embedded = self.embedding(input_step)\n",
    "        embedded = self.embedding_dropout(embedded)\n",
    "        # Forward through unidirectional GRU\n",
    "        rnn_output, hidden = self.gru(embedded, last_hidden)\n",
    "        # Calculate attention weights from the current GRU output\n",
    "        attn_weights = self.attn(rnn_output, encoder_outputs)\n",
    "        # Multiply attention weights to encoder outputs to get new \"weighted sum\" context vector\n",
    "        context = attn_weights.bmm(encoder_outputs.transpose(0, 1))\n",
    "        # Concatenate weighted context vector and GRU output using Luong eq. 5\n",
    "        rnn_output = rnn_output.squeeze(0)\n",
    "        context = context.squeeze(1)\n",
    "        concat_input = torch.cat((rnn_output, context), 1)\n",
    "        concat_output = torch.tanh(self.concat(concat_input))\n",
    "        # Predict next word using Luong eq. 6\n",
    "        output = self.out(concat_output)\n",
    "        output = F.softmax(output, dim=1)\n",
    "        # Return output and final hidden state\n",
    "        return output, hidden"
   ]
  },
  {
   "cell_type": "code",
   "execution_count": 8,
   "metadata": {
    "hidden": true
   },
   "outputs": [],
   "source": [
    "def maskNLLLoss(inp, target, mask):\n",
    "    nTotal = mask.sum()\n",
    "    crossEntropy = -torch.log(torch.gather(inp, 1, target.view(-1, 1)).squeeze(1))\n",
    "    loss = crossEntropy.masked_select(mask).mean()\n",
    "    loss = loss.to(device)\n",
    "    return loss, nTotal.item()"
   ]
  },
  {
   "cell_type": "code",
   "execution_count": 9,
   "metadata": {
    "hidden": true
   },
   "outputs": [],
   "source": [
    "def count_parameters(model):\n",
    "    return sum(p.numel() for p in model.parameters() if p.requires_grad)"
   ]
  },
  {
   "cell_type": "markdown",
   "metadata": {},
   "source": [
    "## Training"
   ]
  },
  {
   "cell_type": "code",
   "execution_count": 10,
   "metadata": {},
   "outputs": [],
   "source": [
    "def plot_loss(d):\n",
    "    x,y=[],[]\n",
    "    for k,v in d.items():\n",
    "            x.append(k)\n",
    "            y.append(v)\n",
    "    plt.plot(x,y)"
   ]
  },
  {
   "cell_type": "code",
   "execution_count": 11,
   "metadata": {},
   "outputs": [],
   "source": [
    "def train(input_variable, lengths, target_variable, mask, max_target_len, encoder, decoder, embedding,\n",
    "          encoder_optimizer, decoder_optimizer, batch_size, clip, max_length=MAX_LENGTH):\n",
    "\n",
    "    # Zero gradients\n",
    "    encoder_optimizer.zero_grad()\n",
    "    decoder_optimizer.zero_grad()\n",
    "\n",
    "    # Set device options\n",
    "    input_variable = input_variable.to(device)\n",
    "    lengths = lengths.to(device)\n",
    "    target_variable = target_variable.to(device)\n",
    "    mask = mask.to(device)\n",
    "\n",
    "    # Initialize variables\n",
    "    loss = 0\n",
    "    print_losses = []\n",
    "    n_totals = 0\n",
    "\n",
    "    # Forward pass through encoder\n",
    "    encoder_outputs, encoder_hidden = encoder(input_variable, lengths)\n",
    "\n",
    "    # Create initial decoder input (start with SOS tokens for each sentence)\n",
    "    decoder_input = torch.LongTensor([[SOS_token for _ in range(batch_size)]])\n",
    "    decoder_input = decoder_input.to(device)\n",
    "\n",
    "    # Set initial decoder hidden state to the encoder's final hidden state\n",
    "    decoder_hidden = encoder_hidden[:decoder.n_layers]\n",
    "\n",
    "    # Determine if we are using teacher forcing this iteration\n",
    "    use_teacher_forcing = True if random.random() < teacher_forcing_ratio else False\n",
    "\n",
    "    # Forward batch of sequences through decoder one time step at a time\n",
    "    if use_teacher_forcing:\n",
    "        for t in range(max_target_len):\n",
    "            decoder_output, decoder_hidden = decoder(\n",
    "                decoder_input, decoder_hidden, encoder_outputs\n",
    "            )\n",
    "            # Teacher forcing: next input is current target\n",
    "            decoder_input = target_variable[t].view(1, -1)\n",
    "            # Calculate and accumulate loss\n",
    "            mask_loss, nTotal = maskNLLLoss(decoder_output, target_variable[t], mask[t])\n",
    "            loss += mask_loss\n",
    "            print_losses.append(mask_loss.item() * nTotal)\n",
    "            n_totals += nTotal\n",
    "    else:\n",
    "        for t in range(max_target_len):\n",
    "            decoder_output, decoder_hidden = decoder(decoder_input, decoder_hidden, encoder_outputs)\n",
    "            # No teacher forcing: next input is decoder's own current output\n",
    "            _, topi = decoder_output.topk(1)\n",
    "            decoder_input = torch.LongTensor([[topi[i][0] for i in range(batch_size)]])\n",
    "            decoder_input = decoder_input.to(device)\n",
    "            # Calculate and accumulate loss\n",
    "            mask_loss, nTotal = maskNLLLoss(decoder_output, target_variable[t], mask[t])\n",
    "            loss += mask_loss\n",
    "            print_losses.append(mask_loss.item() * nTotal)\n",
    "            n_totals += nTotal\n",
    "\n",
    "    # Perform backpropatation\n",
    "    loss.backward()\n",
    "\n",
    "    # Clip gradients: gradients are modified in place\n",
    "    _ = torch.nn.utils.clip_grad_norm_(encoder.parameters(), clip)\n",
    "    _ = torch.nn.utils.clip_grad_norm_(decoder.parameters(), clip)\n",
    "\n",
    "    # Adjust model weights\n",
    "    encoder_optimizer.step()\n",
    "    decoder_optimizer.step()\n",
    "\n",
    "    return sum(print_losses) / n_totals"
   ]
  },
  {
   "cell_type": "code",
   "execution_count": 12,
   "metadata": {},
   "outputs": [],
   "source": [
    "def trainIters(voc, pairs, encoder, decoder, encoder_optimizer, decoder_optimizer, embedding, \n",
    "               encoder_n_layers, decoder_n_layers, save_dir, n_iteration, batch_size, print_every, save_every, \n",
    "               clip, corpus_name, loadFilename, total_iter):\n",
    "\n",
    "    # Load batches for each iteration\n",
    "    #TODO: generator form to save memory of training_batches\n",
    "    training_batches = [batch2TrainData([random.choice(pairs) for _ in range(batch_size)])\n",
    "                      for _ in range(n_iteration)]\n",
    "\n",
    "    # Initializations\n",
    "#     print('Initializing ...')\n",
    "    start_iteration = 0\n",
    "    print_loss = 0\n",
    "    if loadFilename:\n",
    "        start_iteration = checkpoint['iteration']\n",
    "\n",
    "    # Training loop\n",
    "#     print(\"Training...\")\n",
    "    for iteration in range(1,n_iteration+1):\n",
    "        training_batch = training_batches[iteration-1]\n",
    "        # Extract fields from batch\n",
    "        input_variable, lengths, target_variable, mask, max_target_len = training_batch\n",
    "\n",
    "        # Run a training iteration with batch\n",
    "        loss = train(input_variable, lengths, target_variable, mask, max_target_len, encoder,\n",
    "                     decoder, embedding, encoder_optimizer, decoder_optimizer, batch_size, clip)\n",
    "        print_loss += loss\n",
    "        \n",
    "        # Print progress\n",
    "        if iteration % print_every == 0:\n",
    "            print_loss_avg = print_loss / print_every\n",
    "            assert np.isnan(print_loss_avg) == False\n",
    "            loss_dict[total_iter+iteration] = print_loss_avg\n",
    "            print(f\"Iteration: {iteration}; Percent complete: {iteration / n_iteration * 100:.1f}%; \"\n",
    "                  f\"Average loss: {print_loss_avg:.4f}\")\n",
    "            print_loss = 0\n",
    "\n",
    "        # Save checkpoint\n",
    "        if (iteration % save_every == 0):\n",
    "            directory = os.path.join(save_dir, \"checkpoints\")\n",
    "            if not os.path.exists(directory):\n",
    "                os.makedirs(directory)\n",
    "            torch.save({\n",
    "                'iteration': start_iteration+iteration,\n",
    "                'en': encoder.state_dict(),\n",
    "                'de': decoder.state_dict(),\n",
    "                'en_opt': encoder_optimizer.state_dict(),\n",
    "                'de_opt': decoder_optimizer.state_dict(),\n",
    "                'loss': loss,\n",
    "                'voc_dict': voc.__dict__,\n",
    "                'embedding': embedding.state_dict(),\n",
    "                \"total_iter\": total_iter+iteration,\n",
    "                'loss': loss_dict #for plotting\n",
    "            }, os.path.join(directory, f'{start_iteration+iteration}_checkpoint.tar'))"
   ]
  },
  {
   "cell_type": "code",
   "execution_count": 31,
   "metadata": {},
   "outputs": [
    {
     "name": "stdout",
     "output_type": "stream",
     "text": [
      "Building encoder and decoder ...\n",
      "Nº of params:  31675262\n",
      "Models built and ready to go!\n"
     ]
    }
   ],
   "source": [
    "# Configure models\n",
    "attn_model = 'dot'\n",
    "#attn_model = 'general'\n",
    "#attn_model = 'concat'\n",
    "hidden_size = 500 #tamaño del embedding y del hidden\n",
    "encoder_n_layers = 2\n",
    "decoder_n_layers = 2\n",
    "dropout = 0.1\n",
    "batch_size = 256\n",
    "\n",
    "# Set checkpoint to load from; set to None if starting from scratch\n",
    "train_from_zero = False\n",
    "load_last_iter  = True\n",
    "chkpt_dir = os.path.join(save_dir, \"checkpoints\")\n",
    "\n",
    "if train_from_zero:\n",
    "    loadFilename = None\n",
    "    total_iter = 0\n",
    "    loss_dict = {}\n",
    "else:\n",
    "    if load_last_iter: #load last save\n",
    "        chkpt = os.listdir(chkpt_dir)[-1]\n",
    "        loadFilename = os.path.join(chkpt_dir,chkpt)\n",
    "    else:    \n",
    "        checkpoint_iter = 20_000 #load especific iter\n",
    "        loadFilename = os.path.join(chkpt_dir, f'{checkpoint_iter}_checkpoint.tar')\n",
    "\n",
    "print('Building encoder and decoder ...')\n",
    "# Initialize word embeddings\n",
    "embedding = nn.Embedding(voc.num_words, hidden_size)\n",
    "\n",
    "# Initialize encoder & decoder models\n",
    "encoder = EncoderRNN(hidden_size, embedding, encoder_n_layers, dropout)\n",
    "decoder = LuongAttnDecoderRNN(attn_model, embedding, hidden_size, voc.num_words, decoder_n_layers, dropout)\n",
    "print(\"Nº of params: \", count_parameters(encoder) + count_parameters(decoder))\n",
    "\n",
    "# Use appropriate device\n",
    "encoder = encoder.to(device)\n",
    "decoder = decoder.to(device)\n",
    "\n",
    "# Load model if a loadFilename is provided\n",
    "if loadFilename:\n",
    "    # If loading on same machine the model was trained on\n",
    "    checkpoint = torch.load(loadFilename)\n",
    "    # If loading a model trained on GPU to CPU\n",
    "    #checkpoint = torch.load(loadFilename, map_location=torch.device('cpu'))+\n",
    "    encoder.load_state_dict(checkpoint['en'])\n",
    "    decoder.load_state_dict(checkpoint['de'])\n",
    "    embedding.load_state_dict(checkpoint['embedding'])\n",
    "    voc.__dict__ = checkpoint['voc_dict']\n",
    "    total_iter = checkpoint[\"total_iter\"]\n",
    "    loss_dict = checkpoint[\"loss\"]\n",
    "    \n",
    "print('Models built and ready to go!')"
   ]
  },
  {
   "cell_type": "code",
   "execution_count": 32,
   "metadata": {},
   "outputs": [],
   "source": [
    "# Configure training/optimization\n",
    "clip = 15.0\n",
    "teacher_forcing_ratio = 0.99\n",
    "learning_rate = 4e-5\n",
    "decoder_learning_ratio = 5.0\n",
    "n_iteration = 10_000\n",
    "print_every = 1_000\n",
    "save_every = 10_000\n",
    "wd = 1e-4"
   ]
  },
  {
   "cell_type": "code",
   "execution_count": 33,
   "metadata": {
    "scrolled": true
   },
   "outputs": [
    {
     "name": "stdout",
     "output_type": "stream",
     "text": [
      "Building optimizers ...\n"
     ]
    }
   ],
   "source": [
    "# Initialize optimizers\n",
    "print('Building optimizers ...')\n",
    "encoder_optimizer = optim.Adam(encoder.parameters(), lr=learning_rate,weight_decay=wd)\n",
    "decoder_optimizer = optim.Adam(decoder.parameters(), lr=learning_rate * decoder_learning_ratio,weight_decay=wd)\n",
    "if loadFilename:\n",
    "    encoder_optimizer.load_state_dict(checkpoint['en_opt'])\n",
    "    decoder_optimizer.load_state_dict(checkpoint['de_opt'])"
   ]
  },
  {
   "cell_type": "code",
   "execution_count": 17,
   "metadata": {
    "scrolled": true
   },
   "outputs": [
    {
     "name": "stdout",
     "output_type": "stream",
     "text": [
      "No. iterations: 0\n",
      "Iteration: 1000; Percent complete: 10.0%; Average loss: 4.8163\n",
      "Iteration: 2000; Percent complete: 20.0%; Average loss: 4.2829\n",
      "Iteration: 3000; Percent complete: 30.0%; Average loss: 4.1066\n",
      "Iteration: 4000; Percent complete: 40.0%; Average loss: 3.9738\n",
      "Iteration: 5000; Percent complete: 50.0%; Average loss: 3.8957\n",
      "Iteration: 6000; Percent complete: 60.0%; Average loss: 3.8323\n",
      "Iteration: 7000; Percent complete: 70.0%; Average loss: 3.7560\n",
      "Iteration: 8000; Percent complete: 80.0%; Average loss: 3.6944\n",
      "Iteration: 9000; Percent complete: 90.0%; Average loss: 3.6456\n",
      "Iteration: 10000; Percent complete: 100.0%; Average loss: 3.5795\n",
      "No. iterations: 10000\n",
      "Iteration: 1000; Percent complete: 10.0%; Average loss: 3.5288\n",
      "Iteration: 2000; Percent complete: 20.0%; Average loss: 3.4732\n",
      "Iteration: 3000; Percent complete: 30.0%; Average loss: 3.4419\n",
      "Iteration: 4000; Percent complete: 40.0%; Average loss: 3.3843\n",
      "Iteration: 5000; Percent complete: 50.0%; Average loss: 3.3487\n",
      "Iteration: 6000; Percent complete: 60.0%; Average loss: 3.3238\n",
      "Iteration: 7000; Percent complete: 70.0%; Average loss: 3.2681\n",
      "Iteration: 8000; Percent complete: 80.0%; Average loss: 3.2247\n",
      "Iteration: 9000; Percent complete: 90.0%; Average loss: 3.1854\n",
      "Iteration: 10000; Percent complete: 100.0%; Average loss: 3.1545\n",
      "No. iterations: 20000\n",
      "Iteration: 1000; Percent complete: 10.0%; Average loss: 3.1377\n",
      "Iteration: 2000; Percent complete: 20.0%; Average loss: 3.1001\n",
      "Iteration: 3000; Percent complete: 30.0%; Average loss: 3.0430\n",
      "Iteration: 4000; Percent complete: 40.0%; Average loss: 3.0442\n",
      "Iteration: 5000; Percent complete: 50.0%; Average loss: 2.9735\n",
      "Iteration: 6000; Percent complete: 60.0%; Average loss: 2.9547\n",
      "Iteration: 7000; Percent complete: 70.0%; Average loss: 2.9340\n",
      "Iteration: 8000; Percent complete: 80.0%; Average loss: 2.9071\n",
      "Iteration: 9000; Percent complete: 90.0%; Average loss: 2.8757\n",
      "Iteration: 10000; Percent complete: 100.0%; Average loss: 2.8488\n",
      "No. iterations: 30000\n",
      "Iteration: 1000; Percent complete: 10.0%; Average loss: 2.8141\n",
      "Iteration: 2000; Percent complete: 20.0%; Average loss: 2.8080\n",
      "Iteration: 3000; Percent complete: 30.0%; Average loss: 2.7802\n",
      "Iteration: 4000; Percent complete: 40.0%; Average loss: 2.7424\n",
      "Iteration: 5000; Percent complete: 50.0%; Average loss: 2.7171\n",
      "Iteration: 6000; Percent complete: 60.0%; Average loss: 2.6871\n",
      "Iteration: 7000; Percent complete: 70.0%; Average loss: 2.6430\n",
      "Iteration: 8000; Percent complete: 80.0%; Average loss: 2.6114\n",
      "Iteration: 9000; Percent complete: 90.0%; Average loss: 2.6176\n",
      "Iteration: 10000; Percent complete: 100.0%; Average loss: 2.5586\n",
      "No. iterations: 40000\n",
      "Iteration: 1000; Percent complete: 10.0%; Average loss: 2.5442\n",
      "Iteration: 2000; Percent complete: 20.0%; Average loss: 2.5562\n",
      "Iteration: 3000; Percent complete: 30.0%; Average loss: 2.5184\n",
      "Iteration: 4000; Percent complete: 40.0%; Average loss: 2.4962\n",
      "Iteration: 5000; Percent complete: 50.0%; Average loss: 2.4670\n",
      "Iteration: 6000; Percent complete: 60.0%; Average loss: 2.4614\n",
      "Iteration: 7000; Percent complete: 70.0%; Average loss: 2.4184\n",
      "Iteration: 8000; Percent complete: 80.0%; Average loss: 2.4017\n",
      "Iteration: 9000; Percent complete: 90.0%; Average loss: 2.3962\n",
      "Iteration: 10000; Percent complete: 100.0%; Average loss: 2.3556\n",
      "No. iterations: 50000\n",
      "Iteration: 1000; Percent complete: 10.0%; Average loss: 2.3183\n",
      "Iteration: 2000; Percent complete: 20.0%; Average loss: 2.3372\n",
      "Iteration: 3000; Percent complete: 30.0%; Average loss: 2.2783\n",
      "Iteration: 4000; Percent complete: 40.0%; Average loss: 2.2817\n",
      "Iteration: 5000; Percent complete: 50.0%; Average loss: 2.2373\n",
      "Iteration: 6000; Percent complete: 60.0%; Average loss: 2.2284\n",
      "Iteration: 7000; Percent complete: 70.0%; Average loss: 2.2269\n",
      "Iteration: 8000; Percent complete: 80.0%; Average loss: 2.2118\n",
      "Iteration: 9000; Percent complete: 90.0%; Average loss: 2.1644\n",
      "Iteration: 10000; Percent complete: 100.0%; Average loss: 2.1409\n",
      "No. iterations: 60000\n",
      "Iteration: 1000; Percent complete: 10.0%; Average loss: 2.1606\n",
      "Iteration: 2000; Percent complete: 20.0%; Average loss: 2.1451\n",
      "Iteration: 3000; Percent complete: 30.0%; Average loss: 2.1154\n",
      "Iteration: 4000; Percent complete: 40.0%; Average loss: 2.1196\n",
      "Iteration: 5000; Percent complete: 50.0%; Average loss: 2.0923\n",
      "Iteration: 6000; Percent complete: 60.0%; Average loss: 2.0739\n",
      "Iteration: 7000; Percent complete: 70.0%; Average loss: 2.0619\n",
      "Iteration: 8000; Percent complete: 80.0%; Average loss: 2.0454\n",
      "Iteration: 9000; Percent complete: 90.0%; Average loss: 2.0388\n",
      "Iteration: 10000; Percent complete: 100.0%; Average loss: 1.9898\n",
      "No. iterations: 70000\n",
      "Iteration: 1000; Percent complete: 10.0%; Average loss: 1.9874\n",
      "Iteration: 2000; Percent complete: 20.0%; Average loss: 1.9677\n",
      "Iteration: 3000; Percent complete: 30.0%; Average loss: 1.9623\n",
      "Iteration: 4000; Percent complete: 40.0%; Average loss: 1.9627\n",
      "Iteration: 5000; Percent complete: 50.0%; Average loss: 1.9307\n",
      "Iteration: 6000; Percent complete: 60.0%; Average loss: 1.9037\n",
      "Iteration: 7000; Percent complete: 70.0%; Average loss: 1.9150\n",
      "Iteration: 8000; Percent complete: 80.0%; Average loss: 1.8780\n",
      "Iteration: 9000; Percent complete: 90.0%; Average loss: 1.8751\n",
      "Iteration: 10000; Percent complete: 100.0%; Average loss: 1.8540\n",
      "No. iterations: 80000\n",
      "Iteration: 1000; Percent complete: 10.0%; Average loss: 1.8382\n",
      "Iteration: 2000; Percent complete: 20.0%; Average loss: 1.8506\n",
      "Iteration: 3000; Percent complete: 30.0%; Average loss: 1.7964\n",
      "Iteration: 4000; Percent complete: 40.0%; Average loss: 1.7830\n",
      "Iteration: 5000; Percent complete: 50.0%; Average loss: 1.8080\n",
      "Iteration: 6000; Percent complete: 60.0%; Average loss: 1.7836\n",
      "Iteration: 7000; Percent complete: 70.0%; Average loss: 1.7965\n",
      "Iteration: 8000; Percent complete: 80.0%; Average loss: 1.7509\n",
      "Iteration: 9000; Percent complete: 90.0%; Average loss: 1.7210\n",
      "Iteration: 10000; Percent complete: 100.0%; Average loss: 1.7298\n",
      "No. iterations: 90000\n",
      "Iteration: 1000; Percent complete: 10.0%; Average loss: 1.7128\n",
      "Iteration: 2000; Percent complete: 20.0%; Average loss: 1.7118\n",
      "Iteration: 3000; Percent complete: 30.0%; Average loss: 1.6924\n",
      "Iteration: 4000; Percent complete: 40.0%; Average loss: 1.6803\n",
      "Iteration: 5000; Percent complete: 50.0%; Average loss: 1.6887\n",
      "Iteration: 6000; Percent complete: 60.0%; Average loss: 1.6713\n",
      "Iteration: 7000; Percent complete: 70.0%; Average loss: 1.6552\n",
      "Iteration: 8000; Percent complete: 80.0%; Average loss: 1.6492\n",
      "Iteration: 9000; Percent complete: 90.0%; Average loss: 1.6196\n",
      "Iteration: 10000; Percent complete: 100.0%; Average loss: 1.6358\n",
      "CPU times: user 7h 30min 38s, sys: 1h 1min 46s, total: 8h 32min 25s\n",
      "Wall time: 8h 39min 48s\n"
     ]
    },
    {
     "data": {
      "image/png": "[encoded data removed]",
      "text/plain": [
       "<Figure size 432x288 with 1 Axes>"
      ]
     },
     "metadata": {
      "needs_background": "light"
     },
     "output_type": "display_data"
    }
   ],
   "source": [
    "%%time\n",
    "# Ensure dropout layers are in train mode\n",
    "encoder.train()\n",
    "decoder.train()\n",
    "# Run training iterations\n",
    "for _ in range(10):\n",
    "    print(f\"No. iterations: {total_iter}\")\n",
    "    trainIters(voc, pairs, encoder, decoder, encoder_optimizer, decoder_optimizer,\n",
    "               embedding, encoder_n_layers, decoder_n_layers, save_dir, n_iteration, batch_size,\n",
    "               print_every, save_every, clip, corpus_name, loadFilename,total_iter)\n",
    "    total_iter+=n_iteration\n",
    "    \n",
    "    with open(\"./data/loss_log.pkl\", 'wb') as f:\n",
    "        loss_log[corpus_name] = loss_dict\n",
    "        pickle.dump(loss_log, f)\n",
    "    plot_loss(loss_dict)"
   ]
  },
  {
   "cell_type": "code",
   "execution_count": 18,
   "metadata": {},
   "outputs": [
    {
     "data": {
      "image/png": "[encoded data removed]",
      "text/plain": [
       "<Figure size 432x288 with 1 Axes>"
      ]
     },
     "metadata": {
      "needs_background": "light"
     },
     "output_type": "display_data"
    }
   ],
   "source": [
    "#tres metodos de tratar la puntuacion, entrenado por 14 \"epochs\" con 4e4 y 2 con 4e5\n",
    "l = list(loss_log.keys())\n",
    "for k,v in loss_log.items():\n",
    "    plot_loss(v)\n",
    "    plt.gca().legend(l)"
   ]
  },
  {
   "cell_type": "code",
   "execution_count": null,
   "metadata": {},
   "outputs": [],
   "source": [
    "#next\n",
    "#test y subir modelo?\n",
    "#guardar tiempo 10epochs y num params\n",
    "#grafico de loss escalado a tiempo, y scatter plt de loss at 10 y num of params\n",
    "#implement outputs layers"
   ]
  },
  {
   "cell_type": "code",
   "execution_count": null,
   "metadata": {},
   "outputs": [],
   "source": [
    "#train with simple punct\n",
    "#reduce data to see how affect to training. smaller data faster training(worse generaliaztion but useful to do test runs)"
   ]
  },
  {
   "cell_type": "markdown",
   "metadata": {},
   "source": [
    "## Eval "
   ]
  },
  {
   "cell_type": "code",
   "execution_count": 16,
   "metadata": {},
   "outputs": [],
   "source": [
    "import re\n",
    "from pre_processing import process_punct, indexesFromSentence"
   ]
  },
  {
   "cell_type": "code",
   "execution_count": 17,
   "metadata": {},
   "outputs": [],
   "source": [
    "def custom_capitalize(s):\n",
    "    for i, c in enumerate(s):\n",
    "        if c.isalpha():\n",
    "            break\n",
    "    return s[:i] + s[i:].capitalize()"
   ]
  },
  {
   "cell_type": "code",
   "execution_count": 18,
   "metadata": {},
   "outputs": [],
   "source": [
    "def reformatString(l):\n",
    "    s = l.strip().lower()\n",
    "#     s = re.sub(r\"<guion_inic>\",r\"\", s)\n",
    "    s = re.sub(r\"\\s+([.!?])\", r\"\\1\", s)\n",
    "    s = re.sub(r\"([¡¿])\\s+\", r\"\\1\", s)\n",
    "    s = re.sub(r\"\\s+\", r\" \", s)\n",
    "    return custom_capitalize(s).strip()"
   ]
  },
  {
   "cell_type": "code",
   "execution_count": 19,
   "metadata": {},
   "outputs": [],
   "source": [
    "class GreedySearchDecoder(nn.Module):\n",
    "    def __init__(self, encoder, decoder):\n",
    "        super(GreedySearchDecoder, self).__init__()\n",
    "        self.encoder = encoder\n",
    "        self.decoder = decoder\n",
    "\n",
    "    def forward(self, input_seq, input_length, max_length):\n",
    "        # Forward input through encoder model\n",
    "        encoder_outputs, encoder_hidden = self.encoder(input_seq, input_length)\n",
    "        # Prepare encoder's final hidden layer to be first hidden input to the decoder\n",
    "        decoder_hidden = encoder_hidden[:decoder.n_layers]\n",
    "        # Initialize decoder input with SOS_token\n",
    "        decoder_input = torch.ones(1, 1, device=device, dtype=torch.long) * SOS_token\n",
    "        # Initialize tensors to append decoded words to\n",
    "        all_tokens = torch.zeros([0], device=device, dtype=torch.long)\n",
    "        all_scores = torch.zeros([0], device=device)\n",
    "        # Iteratively decode one word token at a time\n",
    "        for _ in range(max_length):\n",
    "            # Forward pass through decoder\n",
    "            decoder_output, decoder_hidden = self.decoder(decoder_input, decoder_hidden, encoder_outputs)\n",
    "            # Obtain most likely word token and its softmax score\n",
    "            decoder_scores, decoder_input = torch.max(decoder_output, dim=1)\n",
    "            # Record token and score\n",
    "            all_tokens = torch.cat((all_tokens, decoder_input), dim=0)\n",
    "            all_scores = torch.cat((all_scores, decoder_scores), dim=0)\n",
    "            # Prepare current token to be next decoder input (add a dimension)\n",
    "            decoder_input = torch.unsqueeze(decoder_input, 0)\n",
    "        # Return collections of word tokens and scores\n",
    "        return all_tokens, all_scores"
   ]
  },
  {
   "cell_type": "code",
   "execution_count": 20,
   "metadata": {},
   "outputs": [],
   "source": [
    "def evaluate(encoder, decoder, searcher, voc, sentence, max_length=MAX_LENGTH):\n",
    "    ### Format input sentence as a batch\n",
    "    # words -> indexes\n",
    "    sentence = sentence.split()\n",
    "    indexes_batch = [indexesFromSentence(sentence, voc)]\n",
    "    # Create lengths tensor\n",
    "    lengths = torch.tensor([len(indexes) for indexes in indexes_batch])\n",
    "    # Transpose dimensions of batch to match models' expectations\n",
    "    input_batch = torch.LongTensor(indexes_batch).transpose(0, 1)\n",
    "    # Use appropriate device\n",
    "    input_batch = input_batch.to(device)\n",
    "    lengths = lengths.to(device)\n",
    "    # Decode sentence with searcher\n",
    "    tokens, scores = searcher(input_batch, lengths, max_length)\n",
    "    # indexes -> words\n",
    "    decoded_words = [voc.index2word[token.item()] for token in tokens]\n",
    "    return decoded_words\n",
    "\n",
    "\n",
    "def evaluateInput(encoder, decoder, searcher, voc):\n",
    "    input_sentence = ''\n",
    "    while(1):\n",
    "        try:\n",
    "            # Get input sentence\n",
    "            input_sentence = input('> ')\n",
    "            # Check if it is quit case\n",
    "            if input_sentence == 'q' or input_sentence == 'quit': break\n",
    "            # Normalize sentence\n",
    "#             input_sentence = \"-\"+input_sentence #para que siga el formato de guiones de una conversacion\n",
    "            input_sentence = process_punct(input_sentence.encode())\n",
    "            # Evaluate sentence\n",
    "            output_words = evaluate(encoder, decoder, searcher, voc, input_sentence)\n",
    "            # Format and print response sentence\n",
    "            output_words[:] = [x for x in output_words if not (x == 'EOS' or x == 'PAD')]\n",
    "            raw_ans = ' '.join(output_words)\n",
    "            ans = reformatString(raw_ans)\n",
    "            print('Bot:',ans)\n",
    "\n",
    "        except KeyError:\n",
    "            print(\"Error: Encountered unknown word.\")"
   ]
  },
  {
   "cell_type": "code",
   "execution_count": 36,
   "metadata": {},
   "outputs": [
    {
     "name": "stdout",
     "output_type": "stream",
     "text": [
      "> hola.\n",
      "Bot: ¿Qué tal?\n",
      "> q\n"
     ]
    }
   ],
   "source": [
    "# Set dropout layers to eval mode\n",
    "encoder.eval()\n",
    "decoder.eval()\n",
    "\n",
    "# Initialize search module\n",
    "searcher = GreedySearchDecoder(encoder, decoder)\n",
    "\n",
    "# Begin chatting (uncomment and run the following line to begin)\n",
    "evaluateInput(encoder, decoder, searcher, voc)"
   ]
  },
  {
   "cell_type": "code",
   "execution_count": 39,
   "metadata": {},
   "outputs": [],
   "source": [
    "def evaluateOneInput(encoder, decoder, searcher, voc, sentence):\n",
    "    input_sentence = process_punct(sentence.encode())\n",
    "    # Evaluate sentence\n",
    "    output_words = evaluate(encoder, decoder, searcher, voc, input_sentence)\n",
    "    # Format and print response sentence\n",
    "    output_words[:] = [x for x in output_words if not (x == 'EOS' or x == 'PAD')]\n",
    "    raw_ans = ' '.join(output_words)\n",
    "    ans = reformatString(raw_ans)\n",
    "    return ans"
   ]
  },
  {
   "cell_type": "code",
   "execution_count": 40,
   "metadata": {},
   "outputs": [
    {
     "data": {
      "text/plain": [
       "'¿Qué es eso de que el juez no se puede pedir una visita?'"
      ]
     },
     "execution_count": 40,
     "metadata": {},
     "output_type": "execute_result"
    }
   ],
   "source": [
    "evaluateOneInput(encoder, decoder, searcher, voc,\"hola\")"
   ]
  }
 ],
 "metadata": {
  "kernelspec": {
   "display_name": "Python [conda root]",
   "language": "python",
   "name": "conda-root-py"
  },
  "language_info": {
   "codemirror_mode": {
    "name": "ipython",
    "version": 3
   },
   "file_extension": ".py",
   "mimetype": "text/x-python",
   "name": "python",
   "nbconvert_exporter": "python",
   "pygments_lexer": "ipython3",
   "version": "3.6.8"
  }
 },
 "nbformat": 4,
 "nbformat_minor": 2
}
